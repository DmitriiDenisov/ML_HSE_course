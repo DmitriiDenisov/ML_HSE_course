{
 "cells": [
  {
   "cell_type": "markdown",
   "metadata": {},
   "source": [
    "# Практическое задание, семинар 9"
   ]
  },
  {
   "cell_type": "markdown",
   "metadata": {},
   "source": [
    "В задании вы экспериментально выясните, почему глубокие деревья хорошо подходят для построения случайного леса. \n",
    "\n",
    "Мы будем пользоваться следующей методикой. Мы хотим установить, что семейство алгоритмов А обладает свойством Б. Мы находим в теории фрагмент, где описаны достаточные условия для выполнения условия Б, и проверяем, что А им удовлетворяет. \n",
    "\n",
    "Конкретно у нас: А - глубокие деревья, Б - эффективный бутстрап, он же бэггинг (эффективный - то есть показывающий хорошее качество), достаточное условие - некоррелированность ошибок базовых алгоритмов. Рассмотрим подробнее."
   ]
  },
  {
   "cell_type": "markdown",
   "metadata": {},
   "source": [
    "__Фрагмент теории про построение эффективных композиций.__\n",
    "\n",
    "В [лекции 8](https://github.com/esokolov/ml-course-hse/blob/master/2017-fall/lecture-notes/lecture08-ensembles.pdf) в разделе про бутстрап было показано, что если у нас есть $N$ алгоритмов $b_1(x) \\dots b_N(x)$, ошибки которых несмещены:\n",
    "$$\\mathbb{E}_x[b_j(x) - y(x)] = 0$$\n",
    "и некоррелированы:\n",
    "$$\\mathbb{E}_x (b_i(x) - y(x))(b_j(x) - y(x)) = 0, i \\ne j,$$\n",
    "то матожидание ошибки композиции $b(x) = \\sum_j b_j(x)$ в $N$ раз меньше, чем одного отдельного алгоритма. Перечитайте этот фрагмент лекции, если не очень понятно, о чем речь.\n",
    "\n",
    "Несмещенность ошибок означает, что алгоритм с одинковой вероятностью ошибается в большую и меньшую сторону. Это условие обычно выполняется для всех алгоритмов (если мы только специально не задаем вес ошибок в какую-то из сторон больше при обучении). \n",
    "\n",
    "Коррелированность ошибок подразумевает, что если один алгоритм сильно ошибся на каком-то объекте, то и другой тоже сильно ошибется. Для построения эффективной композиции надо, чтобы это не выполнялось.\n",
    "\n",
    "Попробуем разобраться, какие алгоритмы будут коррелированными, а какие - по крайней мере не сильно коррелированы.\n",
    "\n",
    "Самый простой алгоритм - константа $b(x) = C$. Ясно, что несмещенный такой алгоритм можно построить только один: $C = \\mathbb{E}_x y(x)$. С таким простым алгоритмом каши не сваришь.\n",
    "\n",
    "Далее по простоте, наверно, идут решающие пни - деревья глубины один. Это почти константа, только в двух разных областях пространства ответов своя. Как вы думаете, будут ли коррелированы два решающих пня, обученных по разным подвыборкам? \n",
    "\n",
    "А если брать глубокие деревья?\n",
    "\n",
    "Вроде бы пни - соссем несложная вещь, и интегралы с ними легко считаются (если выбрать какое-то распределениями над объектами и целевую зависимость), но понять, равен ли интеграл нулю, как-то быстро не получается. Зато можно проверить численно, чем мы и займемся.\n"
   ]
  },
  {
   "cell_type": "markdown",
   "metadata": {},
   "source": [
    "__Постановка эксперимента.__\n",
    "\n",
    "Итак, нам надо проверить, будут ли коррелировать ошибки деревьев, обученных по разным подвыборкам. И проверить это для деревьев разной глубины.\n",
    "\n",
    "Возьмем датасет Бостон (регрессия стоимости жилья). Разделим на две части - по одной будем обучать алгоритмы, по другой - проверять ошибки. "
   ]
  },
  {
   "cell_type": "code",
   "execution_count": 260,
   "metadata": {
    "collapsed": false
   },
   "outputs": [],
   "source": [
    "import numpy as np\n",
    "from sklearn.utils import shuffle\n",
    "from sklearn.datasets import load_boston\n",
    "from sklearn.utils import shuffle\n",
    "from sklearn.tree import DecisionTreeRegressor\n",
    "import matplotlib.pyplot as plt"
   ]
  },
  {
   "cell_type": "code",
   "execution_count": 228,
   "metadata": {
    "collapsed": true
   },
   "outputs": [],
   "source": [
    "def prediction_tree(max_d = None, rand_s = None):\n",
    "    sample = np.random.randint(X_train.shape[0], size=X_train.shape[0])\n",
    "    X_train_bootstrap = X_train[sample]\n",
    "    y_train_bootstrap = y_train[sample]\n",
    "    \n",
    "    DT_clf = DecisionTreeRegressor(max_depth = max_d, random_state = rand_s) \n",
    "    DT_clf.fit(X_train_bootstrap, y_train_bootstrap)\n",
    "    return DT_clf"
   ]
  },
  {
   "cell_type": "code",
   "execution_count": 229,
   "metadata": {
    "collapsed": false
   },
   "outputs": [
    {
     "data": {
      "text/plain": [
       "['data', 'feature_names', 'DESCR', 'target']"
      ]
     },
     "execution_count": 229,
     "metadata": {},
     "output_type": "execute_result"
    }
   ],
   "source": [
    "data = load_boston()\n",
    "data.keys()"
   ]
  },
  {
   "cell_type": "code",
   "execution_count": 300,
   "metadata": {
    "collapsed": false
   },
   "outputs": [
    {
     "name": "stdout",
     "output_type": "stream",
     "text": [
      "(506, 13)\n",
      "(506,)\n"
     ]
    }
   ],
   "source": [
    "X = data.data\n",
    "y = data.target\n",
    "print X.shape\n",
    "print y.shape"
   ]
  },
  {
   "cell_type": "code",
   "execution_count": 231,
   "metadata": {
    "collapsed": false
   },
   "outputs": [],
   "source": [
    "# перемешайте датасет, возьмите первую половину объектов в обучение, вторую - в \"контроль\"\n",
    "X, y = shuffle(X, y)\n",
    "X_train = X[:X.shape[0] / 2]\n",
    "X_test = X[X.shape[0] / 2 : ]\n",
    "y_train = y[:X.shape[0] / 2]\n",
    "y_test = y[X.shape[0] / 2 :]"
   ]
  },
  {
   "cell_type": "markdown",
   "metadata": {},
   "source": [
    "Сначала реализуем процедуру бэггинга. Надо с помощью np.random.randint сгенерировать индексы объектов обучающей выборки (получится с повторениями, нам так и надо), выбрать соответствующие объекты и обучить на них дерево. Будем везде считать, что длина бустрапированной выборки совпадает с длиной исходной."
   ]
  },
  {
   "cell_type": "code",
   "execution_count": 232,
   "metadata": {
    "collapsed": false
   },
   "outputs": [],
   "source": [
    "# обучите 2 одинаковых дерева (например, с настройками по умолчанию) по разным бутстрапированным выборкам\n",
    "DT1 = prediction_tree()\n",
    "DT2 = prediction_tree()"
   ]
  },
  {
   "cell_type": "markdown",
   "metadata": {},
   "source": [
    "Теперь научимся оценивать смещенность и коррелированность.\n",
    "\n",
    "__Теоретическая справка: приближенное вычисление интегралов__\n",
    "\n",
    "Если нам нужно оценить математическое ожидание $\\mathbb{E}_{x \\sim p(x)} f(x) = \\int f(x) p(x) dx$, то можно просемплировать выборку $\\{x_1, \\dots, x_n\\}$ из распределения $p(x)$  и приближенно вычислить ннтеграл:\n",
    "    $$\n",
    "    \\mathbb{E}_{x \\sim p(x)} f(x) \\approx \\frac 1 n \\sum_{i=1}^n f(x_i).\n",
    "    $$\n",
    "    Из областей с большим значением плотности в выборку попадет больше точек, и они внесут больший вклад в значение интеграла.\n",
    "    \n",
    "В нашем случае математическое ожидание берется по распределению над объектами $p(x)$. Ясно, что в жизни мы это распределение не знаем, однако выборка из этого распределения у нас есть, а именно она и нужна для приближенного оценивания.\n",
    "\n",
    "Итак, надо посмотреть, какая функция стоит под мат. ожиданием, вычислить ее для всех точек из \"контрольной\" выборки и усреднить."
   ]
  },
  {
   "cell_type": "code",
   "execution_count": 233,
   "metadata": {
    "collapsed": false
   },
   "outputs": [
    {
     "data": {
      "text/plain": [
       "-0.47786561264822147"
      ]
     },
     "execution_count": 233,
     "metadata": {},
     "output_type": "execute_result"
    }
   ],
   "source": [
    "# оцените смещенность каждого из двух обученных деревьев, используя вторую (\"контрольную\") выборку\n",
    "y_pred1 = DT1.predict(X_test)\n",
    "np.mean((y_test - y_pred1))\n",
    "#mean1 = np.sum(y_pred1) / (1.0 *y_pred1.shape[0])\n",
    "#mean1"
   ]
  },
  {
   "cell_type": "code",
   "execution_count": 234,
   "metadata": {
    "collapsed": false
   },
   "outputs": [
    {
     "data": {
      "text/plain": [
       "-0.17351778656126485"
      ]
     },
     "execution_count": 234,
     "metadata": {},
     "output_type": "execute_result"
    }
   ],
   "source": [
    "y_pred2 = DT2.predict(X_test)\n",
    "np.mean((y_test - y_pred2))\n",
    "#mean2 = np.sum(y_pred2) / (1.0 *y_pred2.shape[0])\n",
    "#mean2"
   ]
  },
  {
   "cell_type": "code",
   "execution_count": 235,
   "metadata": {
    "collapsed": false
   },
   "outputs": [],
   "source": [
    "#mean1 - mean2"
   ]
  },
  {
   "cell_type": "code",
   "execution_count": 236,
   "metadata": {
    "collapsed": false
   },
   "outputs": [
    {
     "data": {
      "text/plain": [
       "11.777430830039528"
      ]
     },
     "execution_count": 236,
     "metadata": {},
     "output_type": "execute_result"
    }
   ],
   "source": [
    "# оцените кореллированность двух деревьев, используя вторую (\"контрольную\") выборку\n",
    "np.mean((y_test - y_pred1) * (y_test - y_pred2))"
   ]
  },
  {
   "cell_type": "markdown",
   "metadata": {},
   "source": [
    "Получилось ли, что смещение практически нулевое, как мы и ожидали? Или хотя бы близко к нулю? Как вы думаете, почему так происходит? "
   ]
  },
  {
   "cell_type": "markdown",
   "metadata": {},
   "source": [
    "смещение достаточно близко к нулю, однако ковариация далека от нуля"
   ]
  },
  {
   "cell_type": "markdown",
   "metadata": {},
   "source": [
    "__Эксперимент.__\n",
    "\n",
    "Итак, теперь мы можем попробовать выяснить ответ на наш вопрос: как меняется уровень коррелированности деревьев при увеличении глубины. Рассмотрите пары одинаковых деревьев глубины [1, 2, 3, 4, 5], обученных по разным подвыборкам, и оцените их коррелированность. Чтобы результат был менее шумным, можно для каждого значения глубины обучать несколько пар деревьев и усреднять значение корреляции. Напечатайте или постройте график корреляция - глубина дерева. Получился ли он убывающим? Дошел ли уровень корреляции до нуля?"
   ]
  },
  {
   "cell_type": "code",
   "execution_count": 349,
   "metadata": {
    "collapsed": false
   },
   "outputs": [],
   "source": [
    "e1 = []\n",
    "e2 = []\n",
    "corr = []\n",
    "for i in np.arange(1, 15):\n",
    "    DT1 = prediction_tree(max_d=i, rand_s = i)\n",
    "    y_pred1 = DT1.predict(X_test)\n",
    "    e1.append(np.mean((y_test - y_pred1)))\n",
    "    \n",
    "    DT2 = prediction_tree(max_d=i, rand_s = i)\n",
    "    y_pred2 = DT2.predict(X_test)\n",
    "    e2.append(np.mean((y_test - y_pred2)))\n",
    "    \n",
    "    corr.append(np.mean((y_test - y_pred1) * (y_test - y_pred2)))"
   ]
  },
  {
   "cell_type": "code",
   "execution_count": 350,
   "metadata": {
    "collapsed": false
   },
   "outputs": [
    {
     "data": {
      "image/png": "[encoded data removed]",
      "text/plain": [
       "<matplotlib.figure.Figure at 0x112095190>"
      ]
     },
     "metadata": {},
     "output_type": "display_data"
    }
   ],
   "source": [
    "plt.plot(np.arange(1,15), corr)\n",
    "plt.show()"
   ]
  },
  {
   "cell_type": "markdown",
   "metadata": {},
   "source": [
    "__Еще один эксперимент.__\n",
    "\n",
    "В лекции говорилось, что чем меньше корреляция, тем лучше должно быть качество композиции. График корреляции мы построили, теперь надо сравнить его с графиком качества. \n",
    "\n",
    "Используя всю перемешанную выборку boston, постройте графиков MSE - глубина дерева на кросс-валидации с треми блоками. Реализация кросс-валдиации - cross_val_score или GridSearchCV на ваше усмотрение. Вроде как в данной ситуации проще использовать cross_val_score и цикл по глубине дерева."
   ]
  },
  {
   "cell_type": "code",
   "execution_count": 301,
   "metadata": {
    "collapsed": true
   },
   "outputs": [],
   "source": [
    "from sklearn.model_selection import cross_val_score # использовать scoring=\"neg_mean_squared_error\"\n",
    "DT = prediction_tree()"
   ]
  },
  {
   "cell_type": "code",
   "execution_count": 353,
   "metadata": {
    "collapsed": false
   },
   "outputs": [],
   "source": [
    "losses = []\n",
    "#for i in range(1, 15):\n",
    "#    DT = prediction_tree(max_d=i)\n",
    "#    loss = np.sum(np.abs(cross_val_score(DT, X, y, cv = 3, scoring=\"neg_mean_squared_error\")))\n",
    "#    losses.append(loss)\n",
    "       \n",
    "losses = []\n",
    "corr = []\n",
    "for i in np.arange(1, 15):\n",
    "    DT1 = prediction_tree(max_d=i, rand_s = i)\n",
    "    \n",
    "    loss = np.sum(np.abs(cross_val_score(DT, X, y, cv = 3, scoring=\"neg_mean_squared_error\")))\n",
    "    losses.append(loss)\n",
    "    \n",
    "    y_pred1 = DT1.predict(X_test)\n",
    "    DT2 = prediction_tree(max_d=i, rand_s = i)\n",
    "    y_pred2 = DT2.predict(X_test)\n",
    "    corr.append(np.mean((y_test - y_pred1) * (y_test - y_pred2)))\n",
    "    "
   ]
  },
  {
   "cell_type": "code",
   "execution_count": 354,
   "metadata": {
    "collapsed": false
   },
   "outputs": [
    {
     "data": {
      "image/png": "[encoded data removed]",
      "text/plain": [
       "<matplotlib.figure.Figure at 0x10db85150>"
      ]
     },
     "metadata": {},
     "output_type": "display_data"
    }
   ],
   "source": [
    "fig = plt.figure(figsize=(12, 5))\n",
    "ax1 = fig.add_subplot(2,1,1)\n",
    "ax2 = fig.add_subplot(2,1,2)\n",
    "\n",
    "ax1.plot(np.arange(1,15), corr)\n",
    "ax2.plot(np.arange(1,15), losses)\n",
    "plt.show()"
   ]
  },
  {
   "cell_type": "markdown",
   "metadata": {},
   "source": [
    "Если у вас еще осталось время, то теперь мега-челендж: оформите свой код так, чтобы в нем почти не было копипаста.\n",
    "\n",
    "Если у вас все еще осталось время (и желание), то можете теперь аналогично поэкспериментировать с параметром max_features, рассмотрев все возможные его значения для задачи Бостон (от 1 до 13)."
   ]
  },
  {
   "cell_type": "code",
   "execution_count": null,
   "metadata": {
    "collapsed": true
   },
   "outputs": [],
   "source": []
  }
 ],
 "metadata": {
  "anaconda-cloud": {},
  "kernelspec": {
   "display_name": "Python [conda env:dataweekends]",
   "language": "python",
   "name": "conda-env-dataweekends-py"
  },
  "language_info": {
   "codemirror_mode": {
    "name": "ipython",
    "version": 2
   },
   "file_extension": ".py",
   "mimetype": "text/x-python",
   "name": "python",
   "nbconvert_exporter": "python",
   "pygments_lexer": "ipython2",
   "version": "2.7.13"
  }
 },
 "nbformat": 4,
 "nbformat_minor": 2
}
