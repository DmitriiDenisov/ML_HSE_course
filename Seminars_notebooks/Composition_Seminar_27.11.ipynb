{
 "cells": [
  {
   "cell_type": "markdown",
   "metadata": {},
   "source": [
    "# Практическая часть семинара по композициям\n",
    "Данные: соревнование [Mercedes-Benz Greener Manufacturing](https://www.kaggle.com/c/mercedes-benz-greener-manufacturing)\n",
    "\n",
    "Данные загружаются сразу из гитхаба ниже.\n",
    "\n",
    "Кратко о задаче: объекты - автомобили, целевая переменная - время, за которое автомобиль проходит тест, задача регрессии, качество измеряется с помощью $R^2$-метрики.\n",
    "\n",
    "Скрипт загрузки и базовой предобработки данных взят с [Kaggle Kernels](https://www.kaggle.com/anokas/mercedes-eda-xgboost-starter-0-55/notebook). В этом же ядре приводится базовый exploration данных, можете почитать после семинара.\n",
    "\n"
   ]
  },
  {
   "cell_type": "markdown",
   "metadata": {},
   "source": [
    "## Загрузка данных"
   ]
  },
  {
   "cell_type": "code",
   "execution_count": 1,
   "metadata": {
    "_cell_guid": "45578147-cb22-cd2a-ccc7-1b81c82e137b",
    "collapsed": false
   },
   "outputs": [],
   "source": [
    "import numpy as np\n",
    "import pandas as pd\n",
    "import os\n",
    "import gc\n",
    "import matplotlib.pyplot as plt\n",
    "import matplotlib\n",
    "#import seaborn as sns\n",
    "matplotlib.style.use('ggplot')\n",
    "%matplotlib inline"
   ]
  },
  {
   "cell_type": "code",
   "execution_count": 2,
   "metadata": {
    "_cell_guid": "ba151bcc-e94e-3ff4-d213-4e80e7b4d956",
    "collapsed": false
   },
   "outputs": [
    {
     "name": "stdout",
     "output_type": "stream",
     "text": [
      "Size of training set: 4209 rows and 378 columns\n"
     ]
    },
    {
     "data": {
      "text/html": [
       "<div>\n",
       "<style>\n",
       "    .dataframe thead tr:only-child th {\n",
       "        text-align: right;\n",
       "    }\n",
       "\n",
       "    .dataframe thead th {\n",
       "        text-align: left;\n",
       "    }\n",
       "\n",
       "    .dataframe tbody tr th {\n",
       "        vertical-align: top;\n",
       "    }\n",
       "</style>\n",
       "<table border=\"1\" class=\"dataframe\">\n",
       "  <thead>\n",
       "    <tr style=\"text-align: right;\">\n",
       "      <th></th>\n",
       "      <th>ID</th>\n",
       "      <th>y</th>\n",
       "      <th>X0</th>\n",
       "      <th>X1</th>\n",
       "      <th>X2</th>\n",
       "      <th>X3</th>\n",
       "      <th>X4</th>\n",
       "      <th>X5</th>\n",
       "      <th>X6</th>\n",
       "      <th>X8</th>\n",
       "      <th>...</th>\n",
       "      <th>X375</th>\n",
       "      <th>X376</th>\n",
       "      <th>X377</th>\n",
       "      <th>X378</th>\n",
       "      <th>X379</th>\n",
       "      <th>X380</th>\n",
       "      <th>X382</th>\n",
       "      <th>X383</th>\n",
       "      <th>X384</th>\n",
       "      <th>X385</th>\n",
       "    </tr>\n",
       "  </thead>\n",
       "  <tbody>\n",
       "    <tr>\n",
       "      <th>0</th>\n",
       "      <td>0</td>\n",
       "      <td>130.81</td>\n",
       "      <td>k</td>\n",
       "      <td>v</td>\n",
       "      <td>at</td>\n",
       "      <td>a</td>\n",
       "      <td>d</td>\n",
       "      <td>u</td>\n",
       "      <td>j</td>\n",
       "      <td>o</td>\n",
       "      <td>...</td>\n",
       "      <td>0</td>\n",
       "      <td>0</td>\n",
       "      <td>1</td>\n",
       "      <td>0</td>\n",
       "      <td>0</td>\n",
       "      <td>0</td>\n",
       "      <td>0</td>\n",
       "      <td>0</td>\n",
       "      <td>0</td>\n",
       "      <td>0</td>\n",
       "    </tr>\n",
       "    <tr>\n",
       "      <th>1</th>\n",
       "      <td>6</td>\n",
       "      <td>88.53</td>\n",
       "      <td>k</td>\n",
       "      <td>t</td>\n",
       "      <td>av</td>\n",
       "      <td>e</td>\n",
       "      <td>d</td>\n",
       "      <td>y</td>\n",
       "      <td>l</td>\n",
       "      <td>o</td>\n",
       "      <td>...</td>\n",
       "      <td>1</td>\n",
       "      <td>0</td>\n",
       "      <td>0</td>\n",
       "      <td>0</td>\n",
       "      <td>0</td>\n",
       "      <td>0</td>\n",
       "      <td>0</td>\n",
       "      <td>0</td>\n",
       "      <td>0</td>\n",
       "      <td>0</td>\n",
       "    </tr>\n",
       "    <tr>\n",
       "      <th>2</th>\n",
       "      <td>7</td>\n",
       "      <td>76.26</td>\n",
       "      <td>az</td>\n",
       "      <td>w</td>\n",
       "      <td>n</td>\n",
       "      <td>c</td>\n",
       "      <td>d</td>\n",
       "      <td>x</td>\n",
       "      <td>j</td>\n",
       "      <td>x</td>\n",
       "      <td>...</td>\n",
       "      <td>0</td>\n",
       "      <td>0</td>\n",
       "      <td>0</td>\n",
       "      <td>0</td>\n",
       "      <td>0</td>\n",
       "      <td>0</td>\n",
       "      <td>1</td>\n",
       "      <td>0</td>\n",
       "      <td>0</td>\n",
       "      <td>0</td>\n",
       "    </tr>\n",
       "    <tr>\n",
       "      <th>3</th>\n",
       "      <td>9</td>\n",
       "      <td>80.62</td>\n",
       "      <td>az</td>\n",
       "      <td>t</td>\n",
       "      <td>n</td>\n",
       "      <td>f</td>\n",
       "      <td>d</td>\n",
       "      <td>x</td>\n",
       "      <td>l</td>\n",
       "      <td>e</td>\n",
       "      <td>...</td>\n",
       "      <td>0</td>\n",
       "      <td>0</td>\n",
       "      <td>0</td>\n",
       "      <td>0</td>\n",
       "      <td>0</td>\n",
       "      <td>0</td>\n",
       "      <td>0</td>\n",
       "      <td>0</td>\n",
       "      <td>0</td>\n",
       "      <td>0</td>\n",
       "    </tr>\n",
       "    <tr>\n",
       "      <th>4</th>\n",
       "      <td>13</td>\n",
       "      <td>78.02</td>\n",
       "      <td>az</td>\n",
       "      <td>v</td>\n",
       "      <td>n</td>\n",
       "      <td>f</td>\n",
       "      <td>d</td>\n",
       "      <td>h</td>\n",
       "      <td>d</td>\n",
       "      <td>n</td>\n",
       "      <td>...</td>\n",
       "      <td>0</td>\n",
       "      <td>0</td>\n",
       "      <td>0</td>\n",
       "      <td>0</td>\n",
       "      <td>0</td>\n",
       "      <td>0</td>\n",
       "      <td>0</td>\n",
       "      <td>0</td>\n",
       "      <td>0</td>\n",
       "      <td>0</td>\n",
       "    </tr>\n",
       "  </tbody>\n",
       "</table>\n",
       "<p>5 rows × 378 columns</p>\n",
       "</div>"
      ],
      "text/plain": [
       "   ID       y  X0 X1  X2 X3 X4 X5 X6 X8  ...   X375  X376  X377  X378  X379  \\\n",
       "0   0  130.81   k  v  at  a  d  u  j  o  ...      0     0     1     0     0   \n",
       "1   6   88.53   k  t  av  e  d  y  l  o  ...      1     0     0     0     0   \n",
       "2   7   76.26  az  w   n  c  d  x  j  x  ...      0     0     0     0     0   \n",
       "3   9   80.62  az  t   n  f  d  x  l  e  ...      0     0     0     0     0   \n",
       "4  13   78.02  az  v   n  f  d  h  d  n  ...      0     0     0     0     0   \n",
       "\n",
       "   X380  X382  X383  X384  X385  \n",
       "0     0     0     0     0     0  \n",
       "1     0     0     0     0     0  \n",
       "2     0     1     0     0     0  \n",
       "3     0     0     0     0     0  \n",
       "4     0     0     0     0     0  \n",
       "\n",
       "[5 rows x 378 columns]"
      ]
     },
     "execution_count": 2,
     "metadata": {},
     "output_type": "execute_result"
    }
   ],
   "source": [
    "df_train = pd.read_csv('https://raw.githubusercontent.com/nadiinchi/hse_cs_ml_course_2017_FTAD/master/materials/train.csv')\n",
    "print('Size of training set: {} rows and {} columns'.format(*df_train.shape))\n",
    "df_train.head()"
   ]
  },
  {
   "cell_type": "markdown",
   "metadata": {},
   "source": [
    "Распределение целевого признака:"
   ]
  },
  {
   "cell_type": "code",
   "execution_count": 3,
   "metadata": {
    "_cell_guid": "8aa66a00-591c-7cff-cc88-051bfcaa40c5",
    "collapsed": false
   },
   "outputs": [
    {
     "name": "stdout",
     "output_type": "stream",
     "text": [
      "min: 72.11 max: 265.32 mean: 100.669318128 std: 12.6778749695\n",
      "Count of values above 180: 1\n"
     ]
    },
    {
     "data": {
      "image/png": "[encoded data removed]",
      "text/plain": [
       "<matplotlib.figure.Figure at 0x10cc87250>"
      ]
     },
     "metadata": {},
     "output_type": "display_data"
    }
   ],
   "source": [
    "y_train = df_train['y'].values\n",
    "plt.figure(figsize=(15, 5))\n",
    "plt.hist(y_train, bins=20)\n",
    "plt.xlabel('Target value in seconds')\n",
    "plt.ylabel('Occurences')\n",
    "plt.title('Distribution of the target value')\n",
    "\n",
    "print('min: {} max: {} mean: {} std: {}'.format(min(y_train), max(y_train), y_train.mean(), y_train.std()))\n",
    "print('Count of values above 180: {}'.format(np.sum(y_train > 200)))"
   ]
  },
  {
   "cell_type": "markdown",
   "metadata": {},
   "source": [
    "Число признаков и объектов:"
   ]
  },
  {
   "cell_type": "code",
   "execution_count": 4,
   "metadata": {
    "_cell_guid": "85c914e4-162a-e3be-ec91-1e687b8222e2",
    "collapsed": false
   },
   "outputs": [
    {
     "name": "stdout",
     "output_type": "stream",
     "text": [
      "Number of features: 376\n",
      "Feature types:\n"
     ]
    },
    {
     "data": {
      "text/plain": [
       "int64     368\n",
       "object      8\n",
       "dtype: int64"
      ]
     },
     "execution_count": 4,
     "metadata": {},
     "output_type": "execute_result"
    }
   ],
   "source": [
    "cols = [c for c in df_train.columns if 'X' in c]\n",
    "print('Number of features: {}'.format(len(cols)))\n",
    "\n",
    "print('Feature types:')\n",
    "df_train[cols].dtypes.value_counts()"
   ]
  },
  {
   "cell_type": "markdown",
   "metadata": {},
   "source": [
    "Приведение данных к вещественному виду:"
   ]
  },
  {
   "cell_type": "code",
   "execution_count": 5,
   "metadata": {
    "collapsed": false
   },
   "outputs": [
    {
     "name": "stderr",
     "output_type": "stream",
     "text": [
      "/anaconda/envs/dataweekends/lib/python2.7/site-packages/ipykernel/__main__.py:10: SettingWithCopyWarning: \n",
      "A value is trying to be set on a copy of a slice from a DataFrame.\n",
      "Try using .loc[row_indexer,col_indexer] = value instead\n",
      "\n",
      "See the caveats in the documentation: http://pandas.pydata.org/pandas-docs/stable/indexing.html#indexing-view-versus-copy\n"
     ]
    },
    {
     "data": {
      "text/html": [
       "<div>\n",
       "<style>\n",
       "    .dataframe thead tr:only-child th {\n",
       "        text-align: right;\n",
       "    }\n",
       "\n",
       "    .dataframe thead th {\n",
       "        text-align: left;\n",
       "    }\n",
       "\n",
       "    .dataframe tbody tr th {\n",
       "        vertical-align: top;\n",
       "    }\n",
       "</style>\n",
       "<table border=\"1\" class=\"dataframe\">\n",
       "  <thead>\n",
       "    <tr style=\"text-align: right;\">\n",
       "      <th></th>\n",
       "      <th>X189</th>\n",
       "      <th>X185</th>\n",
       "      <th>X184</th>\n",
       "      <th>X187</th>\n",
       "      <th>X186</th>\n",
       "      <th>X181</th>\n",
       "      <th>X180</th>\n",
       "      <th>X183</th>\n",
       "      <th>X182</th>\n",
       "      <th>X291</th>\n",
       "      <th>...</th>\n",
       "      <th>X96</th>\n",
       "      <th>X97</th>\n",
       "      <th>X98</th>\n",
       "      <th>X99</th>\n",
       "      <th>X204</th>\n",
       "      <th>X205</th>\n",
       "      <th>X202</th>\n",
       "      <th>X203</th>\n",
       "      <th>X200</th>\n",
       "      <th>X201</th>\n",
       "    </tr>\n",
       "  </thead>\n",
       "  <tbody>\n",
       "    <tr>\n",
       "      <th>0</th>\n",
       "      <td>1</td>\n",
       "      <td>0</td>\n",
       "      <td>1</td>\n",
       "      <td>1</td>\n",
       "      <td>0</td>\n",
       "      <td>0</td>\n",
       "      <td>0</td>\n",
       "      <td>0</td>\n",
       "      <td>0</td>\n",
       "      <td>0</td>\n",
       "      <td>...</td>\n",
       "      <td>0</td>\n",
       "      <td>0</td>\n",
       "      <td>0</td>\n",
       "      <td>0</td>\n",
       "      <td>1</td>\n",
       "      <td>0</td>\n",
       "      <td>0</td>\n",
       "      <td>0</td>\n",
       "      <td>0</td>\n",
       "      <td>0</td>\n",
       "    </tr>\n",
       "    <tr>\n",
       "      <th>1</th>\n",
       "      <td>1</td>\n",
       "      <td>0</td>\n",
       "      <td>0</td>\n",
       "      <td>1</td>\n",
       "      <td>0</td>\n",
       "      <td>0</td>\n",
       "      <td>0</td>\n",
       "      <td>0</td>\n",
       "      <td>0</td>\n",
       "      <td>0</td>\n",
       "      <td>...</td>\n",
       "      <td>1</td>\n",
       "      <td>0</td>\n",
       "      <td>1</td>\n",
       "      <td>0</td>\n",
       "      <td>0</td>\n",
       "      <td>1</td>\n",
       "      <td>0</td>\n",
       "      <td>0</td>\n",
       "      <td>0</td>\n",
       "      <td>0</td>\n",
       "    </tr>\n",
       "    <tr>\n",
       "      <th>2</th>\n",
       "      <td>0</td>\n",
       "      <td>0</td>\n",
       "      <td>0</td>\n",
       "      <td>0</td>\n",
       "      <td>0</td>\n",
       "      <td>0</td>\n",
       "      <td>0</td>\n",
       "      <td>0</td>\n",
       "      <td>0</td>\n",
       "      <td>0</td>\n",
       "      <td>...</td>\n",
       "      <td>1</td>\n",
       "      <td>0</td>\n",
       "      <td>1</td>\n",
       "      <td>0</td>\n",
       "      <td>0</td>\n",
       "      <td>1</td>\n",
       "      <td>0</td>\n",
       "      <td>0</td>\n",
       "      <td>0</td>\n",
       "      <td>0</td>\n",
       "    </tr>\n",
       "    <tr>\n",
       "      <th>3</th>\n",
       "      <td>0</td>\n",
       "      <td>0</td>\n",
       "      <td>0</td>\n",
       "      <td>0</td>\n",
       "      <td>0</td>\n",
       "      <td>0</td>\n",
       "      <td>0</td>\n",
       "      <td>0</td>\n",
       "      <td>0</td>\n",
       "      <td>1</td>\n",
       "      <td>...</td>\n",
       "      <td>1</td>\n",
       "      <td>0</td>\n",
       "      <td>1</td>\n",
       "      <td>0</td>\n",
       "      <td>0</td>\n",
       "      <td>1</td>\n",
       "      <td>0</td>\n",
       "      <td>0</td>\n",
       "      <td>0</td>\n",
       "      <td>0</td>\n",
       "    </tr>\n",
       "    <tr>\n",
       "      <th>4</th>\n",
       "      <td>0</td>\n",
       "      <td>0</td>\n",
       "      <td>0</td>\n",
       "      <td>0</td>\n",
       "      <td>0</td>\n",
       "      <td>0</td>\n",
       "      <td>0</td>\n",
       "      <td>0</td>\n",
       "      <td>0</td>\n",
       "      <td>0</td>\n",
       "      <td>...</td>\n",
       "      <td>1</td>\n",
       "      <td>0</td>\n",
       "      <td>1</td>\n",
       "      <td>0</td>\n",
       "      <td>0</td>\n",
       "      <td>1</td>\n",
       "      <td>0</td>\n",
       "      <td>0</td>\n",
       "      <td>0</td>\n",
       "      <td>0</td>\n",
       "    </tr>\n",
       "  </tbody>\n",
       "</table>\n",
       "<p>5 rows × 376 columns</p>\n",
       "</div>"
      ],
      "text/plain": [
       "   X189  X185  X184  X187  X186  X181  X180  X183  X182  X291  ...   X96  X97  \\\n",
       "0     1     0     1     1     0     0     0     0     0     0  ...     0    0   \n",
       "1     1     0     0     1     0     0     0     0     0     0  ...     1    0   \n",
       "2     0     0     0     0     0     0     0     0     0     0  ...     1    0   \n",
       "3     0     0     0     0     0     0     0     0     0     1  ...     1    0   \n",
       "4     0     0     0     0     0     0     0     0     0     0  ...     1    0   \n",
       "\n",
       "   X98  X99  X204  X205  X202  X203  X200  X201  \n",
       "0    0    0     1     0     0     0     0     0  \n",
       "1    1    0     0     1     0     0     0     0  \n",
       "2    1    0     0     1     0     0     0     0  \n",
       "3    1    0     0     1     0     0     0     0  \n",
       "4    1    0     0     1     0     0     0     0  \n",
       "\n",
       "[5 rows x 376 columns]"
      ]
     },
     "execution_count": 5,
     "metadata": {},
     "output_type": "execute_result"
    }
   ],
   "source": [
    "usable_columns = list(set(df_train.columns) - set(['ID', 'y']))\n",
    "y_train = df_train['y'].values\n",
    "x_train = df_train[usable_columns]\n",
    "for column in usable_columns:\n",
    "    cardinality = len(np.unique(x_train[column]))\n",
    "    if cardinality == 1:\n",
    "        x_train.drop(column, axis=1) # Column with only one value is useless so we drop it\n",
    "    if cardinality > 2: # Column is categorical\n",
    "        mapper = lambda x: sum([ord(digit) for digit in x])\n",
    "        x_train[column] = x_train[column].apply(mapper)\n",
    "        \n",
    "x_train.head()"
   ]
  },
  {
   "cell_type": "markdown",
   "metadata": {},
   "source": [
    "## Разделение данных\n",
    "Разделим данные на три части. Первую будем использовать для настройки случайного леса и градиентного бустинга, вторую - для настройки композиции, третью - для итогового контроля."
   ]
  },
  {
   "cell_type": "code",
   "execution_count": 6,
   "metadata": {
    "collapsed": false
   },
   "outputs": [
    {
     "data": {
      "text/plain": [
       "((4209, 376), (4209,))"
      ]
     },
     "execution_count": 6,
     "metadata": {},
     "output_type": "execute_result"
    }
   ],
   "source": [
    "x_train.shape, y_train.shape"
   ]
  },
  {
   "cell_type": "code",
   "execution_count": 7,
   "metadata": {
    "collapsed": true
   },
   "outputs": [],
   "source": [
    "from sklearn.utils import shuffle"
   ]
  },
  {
   "cell_type": "code",
   "execution_count": 8,
   "metadata": {
    "collapsed": true
   },
   "outputs": [],
   "source": [
    "x_train, y_train = shuffle(x_train, y_train)"
   ]
  },
  {
   "cell_type": "code",
   "execution_count": 9,
   "metadata": {
    "collapsed": false
   },
   "outputs": [
    {
     "data": {
      "text/plain": [
       "((2000, 376), (2000,))"
      ]
     },
     "execution_count": 9,
     "metadata": {},
     "output_type": "execute_result"
    }
   ],
   "source": [
    "x1, y1 = x_train[:2000], y_train[:2000]\n",
    "x1.shape, y1.shape"
   ]
  },
  {
   "cell_type": "code",
   "execution_count": 10,
   "metadata": {
    "collapsed": false
   },
   "outputs": [
    {
     "data": {
      "text/plain": [
       "((1000, 376), (1000,))"
      ]
     },
     "execution_count": 10,
     "metadata": {},
     "output_type": "execute_result"
    }
   ],
   "source": [
    "x2, y2 = x_train[2000:3000], y_train[2000:3000]\n",
    "x2.shape, y2.shape"
   ]
  },
  {
   "cell_type": "code",
   "execution_count": 11,
   "metadata": {
    "collapsed": false
   },
   "outputs": [
    {
     "data": {
      "text/plain": [
       "((1209, 376), (1209,))"
      ]
     },
     "execution_count": 11,
     "metadata": {},
     "output_type": "execute_result"
    }
   ],
   "source": [
    "x3, y3 = x_train[3000:], y_train[3000:]\n",
    "x3.shape, y3.shape"
   ]
  },
  {
   "cell_type": "markdown",
   "metadata": {},
   "source": [
    "## Настройка моделей"
   ]
  },
  {
   "cell_type": "code",
   "execution_count": 12,
   "metadata": {
    "collapsed": false
   },
   "outputs": [
    {
     "name": "stderr",
     "output_type": "stream",
     "text": [
      "//anaconda/envs/dataweekends/lib/python2.7/site-packages/sklearn/cross_validation.py:41: DeprecationWarning: This module was deprecated in version 0.18 in favor of the model_selection module into which all the refactored classes and functions are moved. Also note that the interface of the new CV iterators are different from that of this module. This module will be removed in 0.20.\n",
      "  \"This module will be removed in 0.20.\", DeprecationWarning)\n",
      "//anaconda/envs/dataweekends/lib/python2.7/site-packages/sklearn/grid_search.py:42: DeprecationWarning: This module was deprecated in version 0.18 in favor of the model_selection module into which all the refactored classes and functions are moved. This module will be removed in 0.20.\n",
      "  DeprecationWarning)\n"
     ]
    }
   ],
   "source": [
    "from sklearn.ensemble import RandomForestRegressor, GradientBoostingRegressor\n",
    "from sklearn.metrics import r2_score, make_scorer\n",
    "from sklearn.grid_search import GridSearchCV"
   ]
  },
  {
   "cell_type": "markdown",
   "metadata": {},
   "source": [
    "В этой части вам надо найти оптимальные гиперпараметры для случайного леса и градиентного бустинга, используя первую часть выборки (x1, y1).\n",
    "\n",
    "Начнем со случайного леса. \n",
    "1. (уже сделано ниже) Постройте график зависимости качества от числа деревьев в случайном лесе на кросс-валидации с 3 блоками. Выберите число деревьев для использования в дальнейшей настройке и при итоговом обучении модели.\n",
    "1. Постройте график зависимости качества от max_features на кросс-валидации. Выберите оптимальное значение гиперпараметра.\n",
    "1. С помощью кросс-валидации выберите оптимальные значения для max_depth, min_samples_leaf, min_samples_split.\n",
    "1. Обучите случайный лес с выбранными гиперпараметрами на всей выборке x1, y1.\n",
    "\n",
    "Указания: verbose=3 в GridSearchCV будет выводить значения качества на каждой обучаемой модели. Рекомендуется в экспериментах зафиксировать random_state у модели. "
   ]
  },
  {
   "cell_type": "code",
   "execution_count": 14,
   "metadata": {
    "collapsed": true
   },
   "outputs": [],
   "source": [
    "param_grid = {\"n_estimators\":2**np.arange(10)} #  логарифмическая шкала\n",
    "gs = GridSearchCV(RandomForestRegressor(random_state=1, warm_start=True), param_grid, make_scorer(r2_score))\n",
    "#warmstart - говорит о том, что если на предыдущем шаге построили 100 дереьвев, а на следующем надо 150, то он берет уже построенные\n",
    "#100 деревьев и обучает новые 50"
   ]
  },
  {
   "cell_type": "code",
   "execution_count": 15,
   "metadata": {
    "collapsed": false
   },
   "outputs": [
    {
     "data": {
      "text/plain": [
       "GridSearchCV(cv=None, error_score='raise',\n",
       "       estimator=RandomForestRegressor(bootstrap=True, criterion='mse', max_depth=None,\n",
       "           max_features='auto', max_leaf_nodes=None,\n",
       "           min_impurity_decrease=0.0, min_impurity_split=None,\n",
       "           min_samples_leaf=1, min_samples_split=2,\n",
       "           min_weight_fraction_leaf=0.0, n_estimators=10, n_jobs=1,\n",
       "           oob_score=False, random_state=1, verbose=0, warm_start=True),\n",
       "       fit_params={}, iid=True, n_jobs=1,\n",
       "       param_grid={'n_estimators': array([  1,   2,   4,   8,  16,  32,  64, 128, 256, 512])},\n",
       "       pre_dispatch='2*n_jobs', refit=True, scoring=make_scorer(r2_score),\n",
       "       verbose=0)"
      ]
     },
     "execution_count": 15,
     "metadata": {},
     "output_type": "execute_result"
    }
   ],
   "source": [
    "gs.fit(x1, y1)"
   ]
  },
  {
   "cell_type": "code",
   "execution_count": 16,
   "metadata": {
    "collapsed": false
   },
   "outputs": [
    {
     "data": {
      "text/plain": [
       "{'n_estimators': 512}"
      ]
     },
     "execution_count": 16,
     "metadata": {},
     "output_type": "execute_result"
    }
   ],
   "source": [
    "gs.best_params_"
   ]
  },
  {
   "cell_type": "code",
   "execution_count": 17,
   "metadata": {
    "collapsed": false
   },
   "outputs": [
    {
     "data": {
      "text/plain": [
       "<matplotlib.text.Text at 0x1174ef490>"
      ]
     },
     "execution_count": 17,
     "metadata": {},
     "output_type": "execute_result"
    },
    {
     "data": {
      "image/png": "[encoded data removed]",
      "text/plain": [
       "<matplotlib.figure.Figure at 0x1174d32d0>"
      ]
     },
     "metadata": {},
     "output_type": "display_data"
    }
   ],
   "source": [
    "plt.plot((param_grid[\"n_estimators\"]), [elem[1] for elem in gs.grid_scores_])\n",
    "plt.xscale(\"log\")\n",
    "plt.xlabel(\"n_estimators\")\n",
    "plt.ylabel(\"R2\")"
   ]
  },
  {
   "cell_type": "markdown",
   "metadata": {},
   "source": [
    "Качество, как и ожидается, растет с увеличением числа базовых алгоритмов. Для валидации выберем 100 деревьев (быстро обучается и уже более-менее приналежит области стабильности качества), финальную модель будем обучать с 500 деревьями."
   ]
  },
  {
   "cell_type": "code",
   "execution_count": 23,
   "metadata": {
    "collapsed": true
   },
   "outputs": [],
   "source": [
    "# базовая логарифмическая шкала для max_features\n",
    "param_grid = {\"max_features\":2**np.arange(1, 9)}\n",
    "gs1 = GridSearchCV(RandomForestRegressor(random_state=1, warm_start=True\n",
    "                    , n_estimators=gs.best_params_['n_estimators'])\n",
    "                   , param_grid, make_scorer(r2_score))\n",
    "#warmstart - говорит о том, что если на предыдущем шаге построили 100 дереьвев, а на следующем надо 150, то он берет уже построенные\n",
    "#100 деревьев и обучает новые 50"
   ]
  },
  {
   "cell_type": "code",
   "execution_count": 24,
   "metadata": {
    "collapsed": false
   },
   "outputs": [
    {
     "data": {
      "text/plain": [
       "GridSearchCV(cv=None, error_score='raise',\n",
       "       estimator=RandomForestRegressor(bootstrap=True, criterion='mse', max_depth=None,\n",
       "           max_features='auto', max_leaf_nodes=None,\n",
       "           min_impurity_decrease=0.0, min_impurity_split=None,\n",
       "           min_samples_leaf=1, min_samples_split=2,\n",
       "           min_weight_fraction_leaf=0.0, n_estimators=512, n_jobs=1,\n",
       "           oob_score=False, random_state=1, verbose=0, warm_start=True),\n",
       "       fit_params={}, iid=True, n_jobs=1,\n",
       "       param_grid={'max_features': array([  2,   4,   8,  16,  32,  64, 128, 256])},\n",
       "       pre_dispatch='2*n_jobs', refit=True, scoring=make_scorer(r2_score),\n",
       "       verbose=0)"
      ]
     },
     "execution_count": 24,
     "metadata": {},
     "output_type": "execute_result"
    }
   ],
   "source": [
    "gs1.fit(x1, y1)"
   ]
  },
  {
   "cell_type": "code",
   "execution_count": 25,
   "metadata": {
    "collapsed": false
   },
   "outputs": [
    {
     "data": {
      "text/plain": [
       "<matplotlib.text.Text at 0x11e70d3d0>"
      ]
     },
     "execution_count": 25,
     "metadata": {},
     "output_type": "execute_result"
    },
    {
     "data": {
      "image/png": "[encoded data removed]",
      "text/plain": [
       "<matplotlib.figure.Figure at 0x11e692110>"
      ]
     },
     "metadata": {},
     "output_type": "display_data"
    }
   ],
   "source": [
    "plt.plot((param_grid[\"max_features\"]), [elem[1] for elem in gs1.grid_scores_])\n",
    "plt.xscale(\"log\")\n",
    "plt.xlabel(\"max_features\")\n",
    "plt.ylabel(\"R2\")"
   ]
  },
  {
   "cell_type": "code",
   "execution_count": 27,
   "metadata": {
    "collapsed": false
   },
   "outputs": [
    {
     "data": {
      "text/plain": [
       "{'max_features': 64}"
      ]
     },
     "execution_count": 27,
     "metadata": {},
     "output_type": "execute_result"
    }
   ],
   "source": [
    "gs1.best_params_\n",
    "#RF.fit(x1, y1)"
   ]
  },
  {
   "cell_type": "code",
   "execution_count": 28,
   "metadata": {
    "collapsed": true
   },
   "outputs": [],
   "source": [
    "# базовая шкала для остальных гиперпараметров\n",
    "param_grid = {\"max_depth\":np.arange(1, 9, 2), \"min_samples_leaf\":[1, 3, 9, 27], \"min_samples_split\":[3, 9, 27, 81]}\n",
    "\n",
    "gs2 = GridSearchCV(RandomForestRegressor(random_state=1, warm_start=True, n_estimators=gs.best_params_['n_estimators']\n",
    "                                         , max_features = gs1.best_params_['max_features']), \n",
    "                                           param_grid, make_scorer(r2_score))\n",
    "#warmstart - говорит о том, что если на предыдущем шаге построили 100 дереьвев, а на следующем надо 150, то он берет уже построенные\n",
    "#100 деревьев и обучает новые 50"
   ]
  },
  {
   "cell_type": "code",
   "execution_count": 29,
   "metadata": {
    "collapsed": false
   },
   "outputs": [
    {
     "data": {
      "text/plain": [
       "GridSearchCV(cv=None, error_score='raise',\n",
       "       estimator=RandomForestRegressor(bootstrap=True, criterion='mse', max_depth=None,\n",
       "           max_features=64, max_leaf_nodes=None, min_impurity_decrease=0.0,\n",
       "           min_impurity_split=None, min_samples_leaf=1,\n",
       "           min_samples_split=2, min_weight_fraction_leaf=0.0,\n",
       "           n_estimators=512, n_jobs=1, oob_score=False, random_state=1,\n",
       "           verbose=0, warm_start=True),\n",
       "       fit_params={}, iid=True, n_jobs=1,\n",
       "       param_grid={'min_samples_split': [3, 9, 27, 81], 'max_depth': array([1, 3, 5, 7]), 'min_samples_leaf': [1, 3, 9, 27]},\n",
       "       pre_dispatch='2*n_jobs', refit=True, scoring=make_scorer(r2_score),\n",
       "       verbose=0)"
      ]
     },
     "execution_count": 29,
     "metadata": {},
     "output_type": "execute_result"
    }
   ],
   "source": [
    "gs2.fit(x1, y1)"
   ]
  },
  {
   "cell_type": "code",
   "execution_count": 30,
   "metadata": {
    "collapsed": false
   },
   "outputs": [
    {
     "data": {
      "text/plain": [
       "{'max_depth': 7, 'min_samples_leaf': 1, 'min_samples_split': 81}"
      ]
     },
     "execution_count": 30,
     "metadata": {},
     "output_type": "execute_result"
    }
   ],
   "source": [
    "gs2.best_params_"
   ]
  },
  {
   "cell_type": "code",
   "execution_count": 31,
   "metadata": {
    "collapsed": false
   },
   "outputs": [],
   "source": [
    "RF = gs2.best_estimator_ #возвращает алгоритм"
   ]
  },
  {
   "cell_type": "markdown",
   "metadata": {},
   "source": [
    "Теперь настроим градиентный бустинг, используя ту же выборку x1, y1.\n",
    "\n",
    "1. Запустите кросс-валидацию для GradentBoostingRegressor по n_estimators и learning_rate. Постройте двумерный график или несколько одномерных (например, график качество-число деревьев при разных значениях длины шага). Выберите значения для использования при дальнейшей настройке и для финального обучения модели.\n",
    "1. Постройте график зависимости качества от max_depth на кросс-валидации.\n",
    "1. Выберите оптимальные значения для min_samples_split, min_samples_leaf, max_features с помощью кросс-валидации.\n",
    "1. Обучите итоговую модель с выбранными значениями гиперпараметров на всей выборке x1, y1.\n",
    "\n",
    "Примеры построения трехмерных графиков [здесь](https://matplotlib.org/mpl_toolkits/mplot3d/tutorial.html)."
   ]
  },
  {
   "cell_type": "code",
   "execution_count": 33,
   "metadata": {
    "collapsed": true
   },
   "outputs": [],
   "source": [
    "# базовая шкала для числа деревьев и длины шага\n",
    "param_grid = {\"n_estimators\":2**np.arange(10), \"learning_rate\":0.1**np.arange(5)}\n",
    "\n",
    "gs = GridSearchCV(GradientBoostingRegressor(random_state=1, warm_start=True), \n",
    "                  param_grid, make_scorer(r2_score))"
   ]
  },
  {
   "cell_type": "code",
   "execution_count": 34,
   "metadata": {
    "collapsed": false
   },
   "outputs": [
    {
     "data": {
      "text/plain": [
       "GridSearchCV(cv=None, error_score='raise',\n",
       "       estimator=GradientBoostingRegressor(alpha=0.9, criterion='friedman_mse', init=None,\n",
       "             learning_rate=0.1, loss='ls', max_depth=3, max_features=None,\n",
       "             max_leaf_nodes=None, min_impurity_decrease=0.0,\n",
       "             min_impurity_split=None, min_samples_leaf=1,\n",
       "             min_samples_split=2, min_weight_fraction_leaf=0.0,\n",
       "             n_estimators=100, presort='auto', random_state=1,\n",
       "             subsample=1.0, verbose=0, warm_start=True),\n",
       "       fit_params={}, iid=True, n_jobs=1,\n",
       "       param_grid={'n_estimators': array([  1,   2,   4,   8,  16,  32,  64, 128, 256, 512]), 'learning_rate': array([  1.00000e+00,   1.00000e-01,   1.00000e-02,   1.00000e-03,\n",
       "         1.00000e-04])},\n",
       "       pre_dispatch='2*n_jobs', refit=True, scoring=make_scorer(r2_score),\n",
       "       verbose=0)"
      ]
     },
     "execution_count": 34,
     "metadata": {},
     "output_type": "execute_result"
    }
   ],
   "source": [
    "gs.fit(x1, y1)"
   ]
  },
  {
   "cell_type": "code",
   "execution_count": 35,
   "metadata": {
    "collapsed": false
   },
   "outputs": [
    {
     "data": {
      "text/plain": [
       "{'learning_rate': 0.010000000000000002, 'n_estimators': 512}"
      ]
     },
     "execution_count": 35,
     "metadata": {},
     "output_type": "execute_result"
    }
   ],
   "source": [
    "gs.best_params_"
   ]
  },
  {
   "cell_type": "code",
   "execution_count": 37,
   "metadata": {
    "collapsed": false
   },
   "outputs": [
    {
     "data": {
      "text/plain": [
       "GridSearchCV(cv=None, error_score='raise',\n",
       "       estimator=GradientBoostingRegressor(alpha=0.9, criterion='friedman_mse', init=None,\n",
       "             learning_rate=0.010000000000000002, loss='ls', max_depth=3,\n",
       "             max_features=None, max_leaf_nodes=None,\n",
       "             min_impurity_decrease=0.0, min_impurity_split=None,\n",
       "             min_samples_leaf=1, min_samples_split=2,\n",
       "             min_weight_fraction_leaf=0.0, n_estimators=512,\n",
       "             presort='auto', random_state=1, subsample=1.0, verbose=0,\n",
       "             warm_start=True),\n",
       "       fit_params={}, iid=True, n_jobs=1,\n",
       "       param_grid={'max_depth': array([1, 2, 3, 4, 5, 6, 7, 8])},\n",
       "       pre_dispatch='2*n_jobs', refit=True, scoring=make_scorer(r2_score),\n",
       "       verbose=0)"
      ]
     },
     "execution_count": 37,
     "metadata": {},
     "output_type": "execute_result"
    }
   ],
   "source": [
    "# базовая шкала для max_depth\n",
    "param_grid = {\"max_depth\":np.arange(1, 9)}\n",
    "\n",
    "gs1 = GridSearchCV(GradientBoostingRegressor(random_state=1, n_estimators=gs.best_params_['n_estimators'], \n",
    "                    learning_rate=gs.best_params_['learning_rate'], warm_start=True), param_grid, \n",
    "                       make_scorer(r2_score))\n",
    "gs1.fit(x1, y1)"
   ]
  },
  {
   "cell_type": "code",
   "execution_count": 38,
   "metadata": {
    "collapsed": false
   },
   "outputs": [
    {
     "data": {
      "text/plain": [
       "{'max_depth': 2}"
      ]
     },
     "execution_count": 38,
     "metadata": {},
     "output_type": "execute_result"
    }
   ],
   "source": [
    "gs1.best_params_"
   ]
  },
  {
   "cell_type": "code",
   "execution_count": 39,
   "metadata": {
    "collapsed": false
   },
   "outputs": [
    {
     "name": "stdout",
     "output_type": "stream",
     "text": [
      "Fitting 3 folds for each of 64 candidates, totalling 192 fits\n",
      "[CV] max_features=2, min_samples_split=3, min_samples_leaf=1 .........\n",
      "[CV]  max_features=2, min_samples_split=3, min_samples_leaf=1, score=0.338366 -   0.3s\n",
      "[CV] max_features=2, min_samples_split=3, min_samples_leaf=1 .........\n"
     ]
    },
    {
     "name": "stderr",
     "output_type": "stream",
     "text": [
      "[Parallel(n_jobs=1)]: Done   1 out of   1 | elapsed:    0.3s remaining:    0.0s\n"
     ]
    },
    {
     "name": "stdout",
     "output_type": "stream",
     "text": [
      "[CV]  max_features=2, min_samples_split=3, min_samples_leaf=1, score=0.296139 -   0.2s\n",
      "[CV] max_features=2, min_samples_split=3, min_samples_leaf=1 .........\n"
     ]
    },
    {
     "name": "stderr",
     "output_type": "stream",
     "text": [
      "[Parallel(n_jobs=1)]: Done   2 out of   2 | elapsed:    0.5s remaining:    0.0s\n"
     ]
    },
    {
     "name": "stdout",
     "output_type": "stream",
     "text": [
      "[CV]  max_features=2, min_samples_split=3, min_samples_leaf=1, score=0.356927 -   0.2s\n",
      "[CV] max_features=2, min_samples_split=9, min_samples_leaf=1 .........\n",
      "[CV]  max_features=2, min_samples_split=9, min_samples_leaf=1, score=0.338460 -   0.2s\n",
      "[CV] max_features=2, min_samples_split=9, min_samples_leaf=1 .........\n",
      "[CV]  max_features=2, min_samples_split=9, min_samples_leaf=1, score=0.296222 -   0.2s\n",
      "[CV] max_features=2, min_samples_split=9, min_samples_leaf=1 .........\n",
      "[CV]  max_features=2, min_samples_split=9, min_samples_leaf=1, score=0.357099 -   0.2s\n",
      "[CV] max_features=2, min_samples_split=27, min_samples_leaf=1 ........\n",
      "[CV]  max_features=2, min_samples_split=27, min_samples_leaf=1, score=0.338330 -   0.2s\n",
      "[CV] max_features=2, min_samples_split=27, min_samples_leaf=1 ........\n",
      "[CV]  max_features=2, min_samples_split=27, min_samples_leaf=1, score=0.295833 -   0.2s\n",
      "[CV] max_features=2, min_samples_split=27, min_samples_leaf=1 ........\n",
      "[CV]  max_features=2, min_samples_split=27, min_samples_leaf=1, score=0.356940 -   0.2s\n",
      "[CV] max_features=2, min_samples_split=81, min_samples_leaf=1 ........\n",
      "[CV]  max_features=2, min_samples_split=81, min_samples_leaf=1, score=0.336851 -   0.2s\n",
      "[CV] max_features=2, min_samples_split=81, min_samples_leaf=1 ........\n",
      "[CV]  max_features=2, min_samples_split=81, min_samples_leaf=1, score=0.297066 -   0.2s\n",
      "[CV] max_features=2, min_samples_split=81, min_samples_leaf=1 ........\n",
      "[CV]  max_features=2, min_samples_split=81, min_samples_leaf=1, score=0.355322 -   0.2s\n",
      "[CV] max_features=2, min_samples_split=3, min_samples_leaf=3 .........\n",
      "[CV]  max_features=2, min_samples_split=3, min_samples_leaf=3, score=0.336747 -   0.2s\n",
      "[CV] max_features=2, min_samples_split=3, min_samples_leaf=3 .........\n",
      "[CV]  max_features=2, min_samples_split=3, min_samples_leaf=3, score=0.293903 -   0.2s\n",
      "[CV] max_features=2, min_samples_split=3, min_samples_leaf=3 .........\n",
      "[CV]  max_features=2, min_samples_split=3, min_samples_leaf=3, score=0.351431 -   0.2s\n",
      "[CV] max_features=2, min_samples_split=9, min_samples_leaf=3 .........\n",
      "[CV]  max_features=2, min_samples_split=9, min_samples_leaf=3, score=0.336778 -   0.2s\n",
      "[CV] max_features=2, min_samples_split=9, min_samples_leaf=3 .........\n",
      "[CV]  max_features=2, min_samples_split=9, min_samples_leaf=3, score=0.293797 -   0.2s\n",
      "[CV] max_features=2, min_samples_split=9, min_samples_leaf=3 .........\n",
      "[CV]  max_features=2, min_samples_split=9, min_samples_leaf=3, score=0.351418 -   0.2s\n",
      "[CV] max_features=2, min_samples_split=27, min_samples_leaf=3 ........\n",
      "[CV]  max_features=2, min_samples_split=27, min_samples_leaf=3, score=0.336748 -   0.2s\n",
      "[CV] max_features=2, min_samples_split=27, min_samples_leaf=3 ........\n",
      "[CV]  max_features=2, min_samples_split=27, min_samples_leaf=3, score=0.293212 -   0.2s\n",
      "[CV] max_features=2, min_samples_split=27, min_samples_leaf=3 ........\n",
      "[CV]  max_features=2, min_samples_split=27, min_samples_leaf=3, score=0.351254 -   0.2s\n",
      "[CV] max_features=2, min_samples_split=81, min_samples_leaf=3 ........\n",
      "[CV]  max_features=2, min_samples_split=81, min_samples_leaf=3, score=0.335222 -   0.2s\n",
      "[CV] max_features=2, min_samples_split=81, min_samples_leaf=3 ........\n",
      "[CV]  max_features=2, min_samples_split=81, min_samples_leaf=3, score=0.294427 -   0.2s\n",
      "[CV] max_features=2, min_samples_split=81, min_samples_leaf=3 ........\n",
      "[CV]  max_features=2, min_samples_split=81, min_samples_leaf=3, score=0.349743 -   0.2s\n",
      "[CV] max_features=2, min_samples_split=3, min_samples_leaf=9 .........\n",
      "[CV]  max_features=2, min_samples_split=3, min_samples_leaf=9, score=0.325925 -   0.2s\n",
      "[CV] max_features=2, min_samples_split=3, min_samples_leaf=9 .........\n",
      "[CV]  max_features=2, min_samples_split=3, min_samples_leaf=9, score=0.286203 -   0.3s\n",
      "[CV] max_features=2, min_samples_split=3, min_samples_leaf=9 .........\n",
      "[CV]  max_features=2, min_samples_split=3, min_samples_leaf=9, score=0.342778 -   0.4s\n",
      "[CV] max_features=2, min_samples_split=9, min_samples_leaf=9 .........\n",
      "[CV]  max_features=2, min_samples_split=9, min_samples_leaf=9, score=0.325925 -   0.2s\n",
      "[CV] max_features=2, min_samples_split=9, min_samples_leaf=9 .........\n",
      "[CV]  max_features=2, min_samples_split=9, min_samples_leaf=9, score=0.286203 -   0.2s\n",
      "[CV] max_features=2, min_samples_split=9, min_samples_leaf=9 .........\n",
      "[CV]  max_features=2, min_samples_split=9, min_samples_leaf=9, score=0.342778 -   0.2s\n",
      "[CV] max_features=2, min_samples_split=27, min_samples_leaf=9 ........\n",
      "[CV]  max_features=2, min_samples_split=27, min_samples_leaf=9, score=0.325890 -   0.3s\n",
      "[CV] max_features=2, min_samples_split=27, min_samples_leaf=9 ........\n",
      "[CV]  max_features=2, min_samples_split=27, min_samples_leaf=9, score=0.285613 -   0.2s\n",
      "[CV] max_features=2, min_samples_split=27, min_samples_leaf=9 ........\n",
      "[CV]  max_features=2, min_samples_split=27, min_samples_leaf=9, score=0.342797 -   0.2s\n",
      "[CV] max_features=2, min_samples_split=81, min_samples_leaf=9 ........\n",
      "[CV]  max_features=2, min_samples_split=81, min_samples_leaf=9, score=0.324514 -   0.2s\n",
      "[CV] max_features=2, min_samples_split=81, min_samples_leaf=9 ........\n",
      "[CV]  max_features=2, min_samples_split=81, min_samples_leaf=9, score=0.286903 -   0.3s\n",
      "[CV] max_features=2, min_samples_split=81, min_samples_leaf=9 ........\n",
      "[CV]  max_features=2, min_samples_split=81, min_samples_leaf=9, score=0.341935 -   0.4s\n",
      "[CV] max_features=2, min_samples_split=3, min_samples_leaf=27 ........\n",
      "[CV]  max_features=2, min_samples_split=3, min_samples_leaf=27, score=0.299665 -   0.4s\n",
      "[CV] max_features=2, min_samples_split=3, min_samples_leaf=27 ........\n",
      "[CV]  max_features=2, min_samples_split=3, min_samples_leaf=27, score=0.263797 -   0.3s\n",
      "[CV] max_features=2, min_samples_split=3, min_samples_leaf=27 ........\n",
      "[CV]  max_features=2, min_samples_split=3, min_samples_leaf=27, score=0.314621 -   0.2s\n",
      "[CV] max_features=2, min_samples_split=9, min_samples_leaf=27 ........\n",
      "[CV]  max_features=2, min_samples_split=9, min_samples_leaf=27, score=0.299665 -   0.2s\n",
      "[CV] max_features=2, min_samples_split=9, min_samples_leaf=27 ........\n",
      "[CV]  max_features=2, min_samples_split=9, min_samples_leaf=27, score=0.263797 -   0.2s\n",
      "[CV] max_features=2, min_samples_split=9, min_samples_leaf=27 ........\n",
      "[CV]  max_features=2, min_samples_split=9, min_samples_leaf=27, score=0.314621 -   0.3s\n",
      "[CV] max_features=2, min_samples_split=27, min_samples_leaf=27 .......\n",
      "[CV]  max_features=2, min_samples_split=27, min_samples_leaf=27, score=0.299665 -   0.2s\n",
      "[CV] max_features=2, min_samples_split=27, min_samples_leaf=27 .......\n",
      "[CV]  max_features=2, min_samples_split=27, min_samples_leaf=27, score=0.263797 -   0.2s\n",
      "[CV] max_features=2, min_samples_split=27, min_samples_leaf=27 .......\n",
      "[CV]  max_features=2, min_samples_split=27, min_samples_leaf=27, score=0.314621 -   0.2s\n",
      "[CV] max_features=2, min_samples_split=81, min_samples_leaf=27 .......\n",
      "[CV]  max_features=2, min_samples_split=81, min_samples_leaf=27, score=0.301093 -   0.2s\n",
      "[CV] max_features=2, min_samples_split=81, min_samples_leaf=27 .......\n",
      "[CV]  max_features=2, min_samples_split=81, min_samples_leaf=27, score=0.265952 -   0.2s\n",
      "[CV] max_features=2, min_samples_split=81, min_samples_leaf=27 .......\n",
      "[CV]  max_features=2, min_samples_split=81, min_samples_leaf=27, score=0.316635 -   0.2s\n",
      "[CV] max_features=8, min_samples_split=3, min_samples_leaf=1 .........\n",
      "[CV]  max_features=8, min_samples_split=3, min_samples_leaf=1, score=0.489079 -   0.3s\n",
      "[CV] max_features=8, min_samples_split=3, min_samples_leaf=1 .........\n",
      "[CV]  max_features=8, min_samples_split=3, min_samples_leaf=1, score=0.453021 -   0.4s\n",
      "[CV] max_features=8, min_samples_split=3, min_samples_leaf=1 .........\n",
      "[CV]  max_features=8, min_samples_split=3, min_samples_leaf=1, score=0.508242 -   0.4s\n",
      "[CV] max_features=8, min_samples_split=9, min_samples_leaf=1 .........\n",
      "[CV]  max_features=8, min_samples_split=9, min_samples_leaf=1, score=0.489104 -   0.6s\n",
      "[CV] max_features=8, min_samples_split=9, min_samples_leaf=1 .........\n",
      "[CV]  max_features=8, min_samples_split=9, min_samples_leaf=1, score=0.453021 -   0.4s\n",
      "[CV] max_features=8, min_samples_split=9, min_samples_leaf=1 .........\n",
      "[CV]  max_features=8, min_samples_split=9, min_samples_leaf=1, score=0.508227 -   0.5s\n",
      "[CV] max_features=8, min_samples_split=27, min_samples_leaf=1 ........\n",
      "[CV]  max_features=8, min_samples_split=27, min_samples_leaf=1, score=0.489163 -   0.4s\n",
      "[CV] max_features=8, min_samples_split=27, min_samples_leaf=1 ........\n",
      "[CV]  max_features=8, min_samples_split=27, min_samples_leaf=1, score=0.453019 -   0.4s\n",
      "[CV] max_features=8, min_samples_split=27, min_samples_leaf=1 ........\n",
      "[CV]  max_features=8, min_samples_split=27, min_samples_leaf=1, score=0.507746 -   0.4s\n",
      "[CV] max_features=8, min_samples_split=81, min_samples_leaf=1 ........\n",
      "[CV]  max_features=8, min_samples_split=81, min_samples_leaf=1, score=0.488718 -   0.4s\n",
      "[CV] max_features=8, min_samples_split=81, min_samples_leaf=1 ........\n",
      "[CV]  max_features=8, min_samples_split=81, min_samples_leaf=1, score=0.454156 -   0.4s\n",
      "[CV] max_features=8, min_samples_split=81, min_samples_leaf=1 ........\n",
      "[CV]  max_features=8, min_samples_split=81, min_samples_leaf=1, score=0.507680 -   0.2s\n",
      "[CV] max_features=8, min_samples_split=3, min_samples_leaf=3 .........\n",
      "[CV]  max_features=8, min_samples_split=3, min_samples_leaf=3, score=0.489503 -   0.3s\n",
      "[CV] max_features=8, min_samples_split=3, min_samples_leaf=3 .........\n",
      "[CV]  max_features=8, min_samples_split=3, min_samples_leaf=3, score=0.455754 -   0.3s\n",
      "[CV] max_features=8, min_samples_split=3, min_samples_leaf=3 .........\n",
      "[CV]  max_features=8, min_samples_split=3, min_samples_leaf=3, score=0.508309 -   0.2s\n",
      "[CV] max_features=8, min_samples_split=9, min_samples_leaf=3 .........\n",
      "[CV]  max_features=8, min_samples_split=9, min_samples_leaf=3, score=0.489503 -   0.3s\n",
      "[CV] max_features=8, min_samples_split=9, min_samples_leaf=3 .........\n",
      "[CV]  max_features=8, min_samples_split=9, min_samples_leaf=3, score=0.455752 -   0.3s\n",
      "[CV] max_features=8, min_samples_split=9, min_samples_leaf=3 .........\n",
      "[CV]  max_features=8, min_samples_split=9, min_samples_leaf=3, score=0.508396 -   0.3s\n",
      "[CV] max_features=8, min_samples_split=27, min_samples_leaf=3 ........\n",
      "[CV]  max_features=8, min_samples_split=27, min_samples_leaf=3, score=0.489540 -   0.4s\n",
      "[CV] max_features=8, min_samples_split=27, min_samples_leaf=3 ........\n",
      "[CV]  max_features=8, min_samples_split=27, min_samples_leaf=3, score=0.455822 -   0.3s\n",
      "[CV] max_features=8, min_samples_split=27, min_samples_leaf=3 ........\n",
      "[CV]  max_features=8, min_samples_split=27, min_samples_leaf=3, score=0.508315 -   0.4s\n",
      "[CV] max_features=8, min_samples_split=81, min_samples_leaf=3 ........\n",
      "[CV]  max_features=8, min_samples_split=81, min_samples_leaf=3, score=0.489294 -   0.3s\n",
      "[CV] max_features=8, min_samples_split=81, min_samples_leaf=3 ........\n",
      "[CV]  max_features=8, min_samples_split=81, min_samples_leaf=3, score=0.455980 -   0.3s\n",
      "[CV] max_features=8, min_samples_split=81, min_samples_leaf=3 ........\n",
      "[CV]  max_features=8, min_samples_split=81, min_samples_leaf=3, score=0.507751 -   0.3s\n",
      "[CV] max_features=8, min_samples_split=3, min_samples_leaf=9 .........\n",
      "[CV]  max_features=8, min_samples_split=3, min_samples_leaf=9, score=0.487883 -   0.3s\n",
      "[CV] max_features=8, min_samples_split=3, min_samples_leaf=9 .........\n",
      "[CV]  max_features=8, min_samples_split=3, min_samples_leaf=9, score=0.455743 -   0.3s\n",
      "[CV] max_features=8, min_samples_split=3, min_samples_leaf=9 .........\n",
      "[CV]  max_features=8, min_samples_split=3, min_samples_leaf=9, score=0.505650 -   0.2s\n",
      "[CV] max_features=8, min_samples_split=9, min_samples_leaf=9 .........\n",
      "[CV]  max_features=8, min_samples_split=9, min_samples_leaf=9, score=0.487883 -   0.3s\n",
      "[CV] max_features=8, min_samples_split=9, min_samples_leaf=9 .........\n",
      "[CV]  max_features=8, min_samples_split=9, min_samples_leaf=9, score=0.455743 -   0.3s\n",
      "[CV] max_features=8, min_samples_split=9, min_samples_leaf=9 .........\n",
      "[CV]  max_features=8, min_samples_split=9, min_samples_leaf=9, score=0.505650 -   0.4s\n",
      "[CV] max_features=8, min_samples_split=27, min_samples_leaf=9 ........\n",
      "[CV]  max_features=8, min_samples_split=27, min_samples_leaf=9, score=0.487862 -   0.4s\n",
      "[CV] max_features=8, min_samples_split=27, min_samples_leaf=9 ........\n",
      "[CV]  max_features=8, min_samples_split=27, min_samples_leaf=9, score=0.455723 -   0.4s\n",
      "[CV] max_features=8, min_samples_split=27, min_samples_leaf=9 ........\n",
      "[CV]  max_features=8, min_samples_split=27, min_samples_leaf=9, score=0.505739 -   0.4s\n",
      "[CV] max_features=8, min_samples_split=81, min_samples_leaf=9 ........\n",
      "[CV]  max_features=8, min_samples_split=81, min_samples_leaf=9, score=0.487542 -   0.4s\n",
      "[CV] max_features=8, min_samples_split=81, min_samples_leaf=9 ........\n",
      "[CV]  max_features=8, min_samples_split=81, min_samples_leaf=9, score=0.455785 -   0.6s\n",
      "[CV] max_features=8, min_samples_split=81, min_samples_leaf=9 ........\n",
      "[CV]  max_features=8, min_samples_split=81, min_samples_leaf=9, score=0.506183 -   0.8s\n",
      "[CV] max_features=8, min_samples_split=3, min_samples_leaf=27 ........\n",
      "[CV]  max_features=8, min_samples_split=3, min_samples_leaf=27, score=0.484489 -   0.5s\n",
      "[CV] max_features=8, min_samples_split=3, min_samples_leaf=27 ........\n",
      "[CV]  max_features=8, min_samples_split=3, min_samples_leaf=27, score=0.450413 -   0.5s\n",
      "[CV] max_features=8, min_samples_split=3, min_samples_leaf=27 ........\n",
      "[CV]  max_features=8, min_samples_split=3, min_samples_leaf=27, score=0.502425 -   0.4s\n",
      "[CV] max_features=8, min_samples_split=9, min_samples_leaf=27 ........\n",
      "[CV]  max_features=8, min_samples_split=9, min_samples_leaf=27, score=0.484489 -   0.4s\n",
      "[CV] max_features=8, min_samples_split=9, min_samples_leaf=27 ........\n",
      "[CV]  max_features=8, min_samples_split=9, min_samples_leaf=27, score=0.450413 -   0.4s\n",
      "[CV] max_features=8, min_samples_split=9, min_samples_leaf=27 ........\n",
      "[CV]  max_features=8, min_samples_split=9, min_samples_leaf=27, score=0.502425 -   0.3s\n",
      "[CV] max_features=8, min_samples_split=27, min_samples_leaf=27 .......\n",
      "[CV]  max_features=8, min_samples_split=27, min_samples_leaf=27, score=0.484489 -   0.3s\n",
      "[CV] max_features=8, min_samples_split=27, min_samples_leaf=27 .......\n",
      "[CV]  max_features=8, min_samples_split=27, min_samples_leaf=27, score=0.450413 -   0.3s\n",
      "[CV] max_features=8, min_samples_split=27, min_samples_leaf=27 .......\n",
      "[CV]  max_features=8, min_samples_split=27, min_samples_leaf=27, score=0.502425 -   0.4s\n",
      "[CV] max_features=8, min_samples_split=81, min_samples_leaf=27 .......\n",
      "[CV]  max_features=8, min_samples_split=81, min_samples_leaf=27, score=0.483934 -   0.3s\n",
      "[CV] max_features=8, min_samples_split=81, min_samples_leaf=27 .......\n",
      "[CV]  max_features=8, min_samples_split=81, min_samples_leaf=27, score=0.452079 -   0.3s\n",
      "[CV] max_features=8, min_samples_split=81, min_samples_leaf=27 .......\n",
      "[CV]  max_features=8, min_samples_split=81, min_samples_leaf=27, score=0.501499 -   0.3s\n",
      "[CV] max_features=32, min_samples_split=3, min_samples_leaf=1 ........\n",
      "[CV]  max_features=32, min_samples_split=3, min_samples_leaf=1, score=0.572385 -   0.6s\n",
      "[CV] max_features=32, min_samples_split=3, min_samples_leaf=1 ........\n",
      "[CV]  max_features=32, min_samples_split=3, min_samples_leaf=1, score=0.556126 -   0.5s\n",
      "[CV] max_features=32, min_samples_split=3, min_samples_leaf=1 ........\n",
      "[CV]  max_features=32, min_samples_split=3, min_samples_leaf=1, score=0.585056 -   0.7s\n",
      "[CV] max_features=32, min_samples_split=9, min_samples_leaf=1 ........\n",
      "[CV]  max_features=32, min_samples_split=9, min_samples_leaf=1, score=0.572378 -   0.7s\n",
      "[CV] max_features=32, min_samples_split=9, min_samples_leaf=1 ........\n",
      "[CV]  max_features=32, min_samples_split=9, min_samples_leaf=1, score=0.556139 -   0.8s\n",
      "[CV] max_features=32, min_samples_split=9, min_samples_leaf=1 ........\n",
      "[CV]  max_features=32, min_samples_split=9, min_samples_leaf=1, score=0.585011 -   0.7s\n",
      "[CV] max_features=32, min_samples_split=27, min_samples_leaf=1 .......\n",
      "[CV]  max_features=32, min_samples_split=27, min_samples_leaf=1, score=0.572797 -   0.7s\n",
      "[CV] max_features=32, min_samples_split=27, min_samples_leaf=1 .......\n",
      "[CV]  max_features=32, min_samples_split=27, min_samples_leaf=1, score=0.556444 -   0.6s\n",
      "[CV] max_features=32, min_samples_split=27, min_samples_leaf=1 .......\n",
      "[CV]  max_features=32, min_samples_split=27, min_samples_leaf=1, score=0.585259 -   0.7s\n",
      "[CV] max_features=32, min_samples_split=81, min_samples_leaf=1 .......\n",
      "[CV]  max_features=32, min_samples_split=81, min_samples_leaf=1, score=0.573584 -   0.5s\n",
      "[CV] max_features=32, min_samples_split=81, min_samples_leaf=1 .......\n",
      "[CV]  max_features=32, min_samples_split=81, min_samples_leaf=1, score=0.555558 -   0.5s\n",
      "[CV] max_features=32, min_samples_split=81, min_samples_leaf=1 .......\n",
      "[CV]  max_features=32, min_samples_split=81, min_samples_leaf=1, score=0.584907 -   0.5s\n",
      "[CV] max_features=32, min_samples_split=3, min_samples_leaf=3 ........\n",
      "[CV]  max_features=32, min_samples_split=3, min_samples_leaf=3, score=0.573351 -   0.5s\n",
      "[CV] max_features=32, min_samples_split=3, min_samples_leaf=3 ........\n",
      "[CV]  max_features=32, min_samples_split=3, min_samples_leaf=3, score=0.555105 -   0.5s\n",
      "[CV] max_features=32, min_samples_split=3, min_samples_leaf=3 ........\n",
      "[CV]  max_features=32, min_samples_split=3, min_samples_leaf=3, score=0.586735 -   0.5s\n",
      "[CV] max_features=32, min_samples_split=9, min_samples_leaf=3 ........\n",
      "[CV]  max_features=32, min_samples_split=9, min_samples_leaf=3, score=0.573351 -   0.5s\n",
      "[CV] max_features=32, min_samples_split=9, min_samples_leaf=3 ........\n",
      "[CV]  max_features=32, min_samples_split=9, min_samples_leaf=3, score=0.555105 -   0.6s\n",
      "[CV] max_features=32, min_samples_split=9, min_samples_leaf=3 ........\n",
      "[CV]  max_features=32, min_samples_split=9, min_samples_leaf=3, score=0.586735 -   0.9s\n",
      "[CV] max_features=32, min_samples_split=27, min_samples_leaf=3 .......\n",
      "[CV]  max_features=32, min_samples_split=27, min_samples_leaf=3, score=0.573624 -   0.6s\n",
      "[CV] max_features=32, min_samples_split=27, min_samples_leaf=3 .......\n",
      "[CV]  max_features=32, min_samples_split=27, min_samples_leaf=3, score=0.555857 -   0.6s\n",
      "[CV] max_features=32, min_samples_split=27, min_samples_leaf=3 .......\n",
      "[CV]  max_features=32, min_samples_split=27, min_samples_leaf=3, score=0.586790 -   0.6s\n",
      "[CV] max_features=32, min_samples_split=81, min_samples_leaf=3 .......\n",
      "[CV]  max_features=32, min_samples_split=81, min_samples_leaf=3, score=0.574785 -   0.6s\n",
      "[CV] max_features=32, min_samples_split=81, min_samples_leaf=3 .......\n",
      "[CV]  max_features=32, min_samples_split=81, min_samples_leaf=3, score=0.555603 -   0.5s\n",
      "[CV] max_features=32, min_samples_split=81, min_samples_leaf=3 .......\n",
      "[CV]  max_features=32, min_samples_split=81, min_samples_leaf=3, score=0.586248 -   0.5s\n",
      "[CV] max_features=32, min_samples_split=3, min_samples_leaf=9 ........\n",
      "[CV]  max_features=32, min_samples_split=3, min_samples_leaf=9, score=0.573634 -   0.5s\n",
      "[CV] max_features=32, min_samples_split=3, min_samples_leaf=9 ........\n",
      "[CV]  max_features=32, min_samples_split=3, min_samples_leaf=9, score=0.556402 -   0.5s\n",
      "[CV] max_features=32, min_samples_split=3, min_samples_leaf=9 ........\n",
      "[CV]  max_features=32, min_samples_split=3, min_samples_leaf=9, score=0.586872 -   0.5s\n",
      "[CV] max_features=32, min_samples_split=9, min_samples_leaf=9 ........\n",
      "[CV]  max_features=32, min_samples_split=9, min_samples_leaf=9, score=0.573634 -   0.6s\n",
      "[CV] max_features=32, min_samples_split=9, min_samples_leaf=9 ........\n",
      "[CV]  max_features=32, min_samples_split=9, min_samples_leaf=9, score=0.556402 -   0.5s\n",
      "[CV] max_features=32, min_samples_split=9, min_samples_leaf=9 ........\n",
      "[CV]  max_features=32, min_samples_split=9, min_samples_leaf=9, score=0.586872 -   0.5s\n",
      "[CV] max_features=32, min_samples_split=27, min_samples_leaf=9 .......\n",
      "[CV]  max_features=32, min_samples_split=27, min_samples_leaf=9, score=0.573890 -   0.5s\n",
      "[CV] max_features=32, min_samples_split=27, min_samples_leaf=9 .......\n",
      "[CV]  max_features=32, min_samples_split=27, min_samples_leaf=9, score=0.556003 -   0.5s\n",
      "[CV] max_features=32, min_samples_split=27, min_samples_leaf=9 .......\n",
      "[CV]  max_features=32, min_samples_split=27, min_samples_leaf=9, score=0.586825 -   0.5s\n",
      "[CV] max_features=32, min_samples_split=81, min_samples_leaf=9 .......\n",
      "[CV]  max_features=32, min_samples_split=81, min_samples_leaf=9, score=0.574889 -   0.5s\n",
      "[CV] max_features=32, min_samples_split=81, min_samples_leaf=9 .......\n",
      "[CV]  max_features=32, min_samples_split=81, min_samples_leaf=9, score=0.555858 -   0.5s\n",
      "[CV] max_features=32, min_samples_split=81, min_samples_leaf=9 .......\n",
      "[CV]  max_features=32, min_samples_split=81, min_samples_leaf=9, score=0.586414 -   0.5s\n",
      "[CV] max_features=32, min_samples_split=3, min_samples_leaf=27 .......\n",
      "[CV]  max_features=32, min_samples_split=3, min_samples_leaf=27, score=0.570016 -   0.5s\n",
      "[CV] max_features=32, min_samples_split=3, min_samples_leaf=27 .......\n",
      "[CV]  max_features=32, min_samples_split=3, min_samples_leaf=27, score=0.549896 -   0.5s\n",
      "[CV] max_features=32, min_samples_split=3, min_samples_leaf=27 .......\n",
      "[CV]  max_features=32, min_samples_split=3, min_samples_leaf=27, score=0.579096 -   0.5s\n",
      "[CV] max_features=32, min_samples_split=9, min_samples_leaf=27 .......\n",
      "[CV]  max_features=32, min_samples_split=9, min_samples_leaf=27, score=0.570016 -   0.5s\n",
      "[CV] max_features=32, min_samples_split=9, min_samples_leaf=27 .......\n",
      "[CV]  max_features=32, min_samples_split=9, min_samples_leaf=27, score=0.549896 -   0.5s\n",
      "[CV] max_features=32, min_samples_split=9, min_samples_leaf=27 .......\n",
      "[CV]  max_features=32, min_samples_split=9, min_samples_leaf=27, score=0.579096 -   0.5s\n",
      "[CV] max_features=32, min_samples_split=27, min_samples_leaf=27 ......\n",
      "[CV]  max_features=32, min_samples_split=27, min_samples_leaf=27, score=0.570016 -   0.5s\n",
      "[CV] max_features=32, min_samples_split=27, min_samples_leaf=27 ......\n",
      "[CV]  max_features=32, min_samples_split=27, min_samples_leaf=27, score=0.549896 -   0.5s\n",
      "[CV] max_features=32, min_samples_split=27, min_samples_leaf=27 ......\n",
      "[CV]  max_features=32, min_samples_split=27, min_samples_leaf=27, score=0.579096 -   0.5s\n",
      "[CV] max_features=32, min_samples_split=81, min_samples_leaf=27 ......\n",
      "[CV]  max_features=32, min_samples_split=81, min_samples_leaf=27, score=0.569880 -   0.5s\n",
      "[CV] max_features=32, min_samples_split=81, min_samples_leaf=27 ......\n",
      "[CV]  max_features=32, min_samples_split=81, min_samples_leaf=27, score=0.549732 -   0.5s\n",
      "[CV] max_features=32, min_samples_split=81, min_samples_leaf=27 ......\n",
      "[CV]  max_features=32, min_samples_split=81, min_samples_leaf=27, score=0.579222 -   0.5s\n",
      "[CV] max_features=128, min_samples_split=3, min_samples_leaf=1 .......\n",
      "[CV]  max_features=128, min_samples_split=3, min_samples_leaf=1, score=0.583912 -   1.3s\n",
      "[CV] max_features=128, min_samples_split=3, min_samples_leaf=1 .......\n",
      "[CV]  max_features=128, min_samples_split=3, min_samples_leaf=1, score=0.561703 -   1.4s\n",
      "[CV] max_features=128, min_samples_split=3, min_samples_leaf=1 .......\n",
      "[CV]  max_features=128, min_samples_split=3, min_samples_leaf=1, score=0.600554 -   1.4s\n",
      "[CV] max_features=128, min_samples_split=9, min_samples_leaf=1 .......\n",
      "[CV]  max_features=128, min_samples_split=9, min_samples_leaf=1, score=0.583590 -   1.3s\n",
      "[CV] max_features=128, min_samples_split=9, min_samples_leaf=1 .......\n",
      "[CV]  max_features=128, min_samples_split=9, min_samples_leaf=1, score=0.561611 -   1.4s\n",
      "[CV] max_features=128, min_samples_split=9, min_samples_leaf=1 .......\n",
      "[CV]  max_features=128, min_samples_split=9, min_samples_leaf=1, score=0.600680 -   1.4s\n",
      "[CV] max_features=128, min_samples_split=27, min_samples_leaf=1 ......\n",
      "[CV]  max_features=128, min_samples_split=27, min_samples_leaf=1, score=0.584273 -   1.3s\n",
      "[CV] max_features=128, min_samples_split=27, min_samples_leaf=1 ......\n",
      "[CV]  max_features=128, min_samples_split=27, min_samples_leaf=1, score=0.561707 -   1.3s\n",
      "[CV] max_features=128, min_samples_split=27, min_samples_leaf=1 ......\n",
      "[CV]  max_features=128, min_samples_split=27, min_samples_leaf=1, score=0.601100 -   1.3s\n",
      "[CV] max_features=128, min_samples_split=81, min_samples_leaf=1 ......\n",
      "[CV]  max_features=128, min_samples_split=81, min_samples_leaf=1, score=0.583711 -   1.2s\n",
      "[CV] max_features=128, min_samples_split=81, min_samples_leaf=1 ......\n",
      "[CV]  max_features=128, min_samples_split=81, min_samples_leaf=1, score=0.559772 -   1.3s\n",
      "[CV] max_features=128, min_samples_split=81, min_samples_leaf=1 ......\n",
      "[CV]  max_features=128, min_samples_split=81, min_samples_leaf=1, score=0.601079 -   1.4s\n",
      "[CV] max_features=128, min_samples_split=3, min_samples_leaf=3 .......\n",
      "[CV]  max_features=128, min_samples_split=3, min_samples_leaf=3, score=0.584436 -   1.4s\n",
      "[CV] max_features=128, min_samples_split=3, min_samples_leaf=3 .......\n",
      "[CV]  max_features=128, min_samples_split=3, min_samples_leaf=3, score=0.562146 -   1.5s\n",
      "[CV] max_features=128, min_samples_split=3, min_samples_leaf=3 .......\n",
      "[CV]  max_features=128, min_samples_split=3, min_samples_leaf=3, score=0.605537 -   1.4s\n",
      "[CV] max_features=128, min_samples_split=9, min_samples_leaf=3 .......\n",
      "[CV]  max_features=128, min_samples_split=9, min_samples_leaf=3, score=0.584494 -   1.4s\n",
      "[CV] max_features=128, min_samples_split=9, min_samples_leaf=3 .......\n",
      "[CV]  max_features=128, min_samples_split=9, min_samples_leaf=3, score=0.562146 -   1.3s\n",
      "[CV] max_features=128, min_samples_split=9, min_samples_leaf=3 .......\n",
      "[CV]  max_features=128, min_samples_split=9, min_samples_leaf=3, score=0.605586 -   1.4s\n",
      "[CV] max_features=128, min_samples_split=27, min_samples_leaf=3 ......\n",
      "[CV]  max_features=128, min_samples_split=27, min_samples_leaf=3, score=0.584666 -   1.3s\n",
      "[CV] max_features=128, min_samples_split=27, min_samples_leaf=3 ......\n",
      "[CV]  max_features=128, min_samples_split=27, min_samples_leaf=3, score=0.562552 -   1.3s\n",
      "[CV] max_features=128, min_samples_split=27, min_samples_leaf=3 ......\n",
      "[CV]  max_features=128, min_samples_split=27, min_samples_leaf=3, score=0.605659 -   1.4s\n",
      "[CV] max_features=128, min_samples_split=81, min_samples_leaf=3 ......\n",
      "[CV]  max_features=128, min_samples_split=81, min_samples_leaf=3, score=0.586700 -   1.3s\n",
      "[CV] max_features=128, min_samples_split=81, min_samples_leaf=3 ......\n",
      "[CV]  max_features=128, min_samples_split=81, min_samples_leaf=3, score=0.562517 -   1.2s\n",
      "[CV] max_features=128, min_samples_split=81, min_samples_leaf=3 ......\n",
      "[CV]  max_features=128, min_samples_split=81, min_samples_leaf=3, score=0.604918 -   1.3s\n",
      "[CV] max_features=128, min_samples_split=3, min_samples_leaf=9 .......\n",
      "[CV]  max_features=128, min_samples_split=3, min_samples_leaf=9, score=0.585564 -   1.4s\n",
      "[CV] max_features=128, min_samples_split=3, min_samples_leaf=9 .......\n",
      "[CV]  max_features=128, min_samples_split=3, min_samples_leaf=9, score=0.564704 -   1.4s\n",
      "[CV] max_features=128, min_samples_split=3, min_samples_leaf=9 .......\n",
      "[CV]  max_features=128, min_samples_split=3, min_samples_leaf=9, score=0.605913 -   1.6s\n",
      "[CV] max_features=128, min_samples_split=9, min_samples_leaf=9 .......\n",
      "[CV]  max_features=128, min_samples_split=9, min_samples_leaf=9, score=0.585564 -   1.7s\n",
      "[CV] max_features=128, min_samples_split=9, min_samples_leaf=9 .......\n",
      "[CV]  max_features=128, min_samples_split=9, min_samples_leaf=9, score=0.564704 -   1.6s\n",
      "[CV] max_features=128, min_samples_split=9, min_samples_leaf=9 .......\n",
      "[CV]  max_features=128, min_samples_split=9, min_samples_leaf=9, score=0.605913 -   1.7s\n",
      "[CV] max_features=128, min_samples_split=27, min_samples_leaf=9 ......\n",
      "[CV]  max_features=128, min_samples_split=27, min_samples_leaf=9, score=0.586025 -   2.1s\n",
      "[CV] max_features=128, min_samples_split=27, min_samples_leaf=9 ......\n",
      "[CV]  max_features=128, min_samples_split=27, min_samples_leaf=9, score=0.564734 -   1.5s\n",
      "[CV] max_features=128, min_samples_split=27, min_samples_leaf=9 ......\n",
      "[CV]  max_features=128, min_samples_split=27, min_samples_leaf=9, score=0.605913 -   1.8s\n",
      "[CV] max_features=128, min_samples_split=81, min_samples_leaf=9 ......\n",
      "[CV]  max_features=128, min_samples_split=81, min_samples_leaf=9, score=0.586418 -   1.9s\n",
      "[CV] max_features=128, min_samples_split=81, min_samples_leaf=9 ......\n",
      "[CV]  max_features=128, min_samples_split=81, min_samples_leaf=9, score=0.564208 -   2.0s\n",
      "[CV] max_features=128, min_samples_split=81, min_samples_leaf=9 ......\n",
      "[CV]  max_features=128, min_samples_split=81, min_samples_leaf=9, score=0.604911 -   1.8s\n",
      "[CV] max_features=128, min_samples_split=3, min_samples_leaf=27 ......\n",
      "[CV]  max_features=128, min_samples_split=3, min_samples_leaf=27, score=0.581617 -   2.2s\n",
      "[CV] max_features=128, min_samples_split=3, min_samples_leaf=27 ......\n",
      "[CV]  max_features=128, min_samples_split=3, min_samples_leaf=27, score=0.559527 -   1.6s\n",
      "[CV] max_features=128, min_samples_split=3, min_samples_leaf=27 ......\n",
      "[CV]  max_features=128, min_samples_split=3, min_samples_leaf=27, score=0.600130 -   1.4s\n",
      "[CV] max_features=128, min_samples_split=9, min_samples_leaf=27 ......\n",
      "[CV]  max_features=128, min_samples_split=9, min_samples_leaf=27, score=0.581617 -   1.4s\n",
      "[CV] max_features=128, min_samples_split=9, min_samples_leaf=27 ......\n",
      "[CV]  max_features=128, min_samples_split=9, min_samples_leaf=27, score=0.559527 -   1.4s\n",
      "[CV] max_features=128, min_samples_split=9, min_samples_leaf=27 ......\n",
      "[CV]  max_features=128, min_samples_split=9, min_samples_leaf=27, score=0.600130 -   1.4s\n",
      "[CV] max_features=128, min_samples_split=27, min_samples_leaf=27 .....\n",
      "[CV]  max_features=128, min_samples_split=27, min_samples_leaf=27, score=0.581617 -   1.3s\n",
      "[CV] max_features=128, min_samples_split=27, min_samples_leaf=27 .....\n",
      "[CV]  max_features=128, min_samples_split=27, min_samples_leaf=27, score=0.559527 -   1.4s\n",
      "[CV] max_features=128, min_samples_split=27, min_samples_leaf=27 .....\n",
      "[CV]  max_features=128, min_samples_split=27, min_samples_leaf=27, score=0.600130 -   1.4s\n",
      "[CV] max_features=128, min_samples_split=81, min_samples_leaf=27 .....\n",
      "[CV]  max_features=128, min_samples_split=81, min_samples_leaf=27, score=0.581690 -   1.3s\n",
      "[CV] max_features=128, min_samples_split=81, min_samples_leaf=27 .....\n",
      "[CV]  max_features=128, min_samples_split=81, min_samples_leaf=27, score=0.559869 -   1.3s\n",
      "[CV] max_features=128, min_samples_split=81, min_samples_leaf=27 .....\n",
      "[CV]  max_features=128, min_samples_split=81, min_samples_leaf=27, score=0.599847 -   1.5s\n"
     ]
    },
    {
     "name": "stderr",
     "output_type": "stream",
     "text": [
      "[Parallel(n_jobs=1)]: Done 192 out of 192 | elapsed:  2.1min finished\n"
     ]
    },
    {
     "data": {
      "text/plain": [
       "GridSearchCV(cv=None, error_score='raise',\n",
       "       estimator=GradientBoostingRegressor(alpha=0.9, criterion='friedman_mse', init=None,\n",
       "             learning_rate=0.010000000000000002, loss='ls', max_depth=2,\n",
       "             max_features=None, max_leaf_nodes=None,\n",
       "             min_impurity_decrease=0.0, min_impurity_split=None,\n",
       "             min_samples_leaf=1, min_samples_split=2,\n",
       "             min_weight_fraction_leaf=0.0, n_estimators=512,\n",
       "             presort='auto', random_state=1, subsample=1.0, verbose=0,\n",
       "             warm_start=True),\n",
       "       fit_params={}, iid=True, n_jobs=1,\n",
       "       param_grid={'max_features': array([  2,   8,  32, 128]), 'min_samples_split': [3, 9, 27, 81], 'min_samples_leaf': [1, 3, 9, 27]},\n",
       "       pre_dispatch='2*n_jobs', refit=True, scoring=make_scorer(r2_score),\n",
       "       verbose=3)"
      ]
     },
     "execution_count": 39,
     "metadata": {},
     "output_type": "execute_result"
    }
   ],
   "source": [
    "# базовая шкала для остальных гиперпараметров\n",
    "param_grid = {\"max_features\":2**np.arange(1, 9, 2), \"min_samples_leaf\":[1, 3, 9, 27], \n",
    "              \"min_samples_split\":[3, 9, 27, 81]}\n",
    "\n",
    "gs2 = GridSearchCV(GradientBoostingRegressor(random_state=1, max_depth=gs1.best_params_['max_depth'], \n",
    "                    n_estimators=gs.best_params_['n_estimators'], learning_rate=gs.best_params_['learning_rate'],\n",
    "                    warm_start=True), param_grid, make_scorer(r2_score), verbose=3)\n",
    "gs2.fit(x1, y1)"
   ]
  },
  {
   "cell_type": "code",
   "execution_count": 40,
   "metadata": {
    "collapsed": false
   },
   "outputs": [
    {
     "data": {
      "text/plain": [
       "{'max_features': 128, 'min_samples_leaf': 9, 'min_samples_split': 27}"
      ]
     },
     "execution_count": 40,
     "metadata": {},
     "output_type": "execute_result"
    }
   ],
   "source": [
    "gs2.best_params_"
   ]
  },
  {
   "cell_type": "markdown",
   "metadata": {},
   "source": [
    "Выведите качество случайного леса и градиентного бустинга на x2, y2, а также качество модели, представляющей собой усреднение предсказаний двух обученных моделей."
   ]
  },
  {
   "cell_type": "code",
   "execution_count": 41,
   "metadata": {
    "collapsed": false
   },
   "outputs": [],
   "source": [
    "GB = gs2.best_estimator_"
   ]
  },
  {
   "cell_type": "code",
   "execution_count": 45,
   "metadata": {
    "collapsed": false
   },
   "outputs": [
    {
     "data": {
      "text/plain": [
       "0.49240254504200054"
      ]
     },
     "execution_count": 45,
     "metadata": {},
     "output_type": "execute_result"
    }
   ],
   "source": [
    "#смотрим GB без параметров\n",
    "GB_without_params = GradientBoostingRegressor()\n",
    "GB_without_params.fit(x1, y1)\n",
    "y_pred = GB_without_params.predict(x2)\n",
    "r2_score(y2, y_pred)"
   ]
  },
  {
   "cell_type": "code",
   "execution_count": 46,
   "metadata": {
    "collapsed": false
   },
   "outputs": [
    {
     "data": {
      "text/plain": [
       "0.48785646616084466"
      ]
     },
     "execution_count": 46,
     "metadata": {},
     "output_type": "execute_result"
    }
   ],
   "source": [
    "y_pred_GB = GB.predict(x2)\n",
    "r2_score(y2, y_pred_GB)"
   ]
  },
  {
   "cell_type": "code",
   "execution_count": 47,
   "metadata": {
    "collapsed": false
   },
   "outputs": [
    {
     "data": {
      "text/plain": [
       "0.4289923752890451"
      ]
     },
     "execution_count": 47,
     "metadata": {},
     "output_type": "execute_result"
    }
   ],
   "source": [
    "#смотрим RF без параметров\n",
    "RF_without_params = RandomForestRegressor()\n",
    "RF_without_params.fit(x1, y1)\n",
    "y_pred = RF_without_params.predict(x2)\n",
    "r2_score(y2, y_pred)"
   ]
  },
  {
   "cell_type": "code",
   "execution_count": 48,
   "metadata": {
    "collapsed": false
   },
   "outputs": [
    {
     "data": {
      "text/plain": [
       "0.48465504358981615"
      ]
     },
     "execution_count": 48,
     "metadata": {},
     "output_type": "execute_result"
    }
   ],
   "source": [
    "y_pred_RF = RF.predict(x2)\n",
    "r2_score(y2, y_pred_RF)"
   ]
  },
  {
   "cell_type": "markdown",
   "metadata": {},
   "source": [
    "Реализуйте блендинг. Обучите линейную регрессию на признаках - выходах двух моделей по выборке x2, y2. "
   ]
  },
  {
   "cell_type": "code",
   "execution_count": 49,
   "metadata": {
    "collapsed": true
   },
   "outputs": [],
   "source": [
    "from sklearn.linear_model import LinearRegression"
   ]
  },
  {
   "cell_type": "code",
   "execution_count": 50,
   "metadata": {
    "collapsed": false
   },
   "outputs": [],
   "source": [
    "DF = pd.DataFrame(\n",
    "    {'RF': y_pred_RF,\n",
    "     'GB': y_pred_GB\n",
    "    })"
   ]
  },
  {
   "cell_type": "code",
   "execution_count": 51,
   "metadata": {
    "collapsed": false
   },
   "outputs": [
    {
     "data": {
      "text/plain": [
       "LinearRegression(copy_X=True, fit_intercept=True, n_jobs=1, normalize=False)"
      ]
     },
     "execution_count": 51,
     "metadata": {},
     "output_type": "execute_result"
    }
   ],
   "source": [
    "LR = LinearRegression()\n",
    "LR.fit(DF, y2)"
   ]
  },
  {
   "cell_type": "markdown",
   "metadata": {},
   "source": [
    "Выведите качество случайного леса и градиентного бустинга на x3, y3, качество модели, представляющей собой усреднение предсказаний двух обученных моделей, а также качество блендинга."
   ]
  },
  {
   "cell_type": "code",
   "execution_count": 52,
   "metadata": {
    "collapsed": false
   },
   "outputs": [
    {
     "name": "stdout",
     "output_type": "stream",
     "text": [
      "0.607227817634\n",
      "0.609292505336\n",
      "0.609543888663\n",
      "0.605398188294\n"
     ]
    }
   ],
   "source": [
    "y_pred_GB = GB.predict(x3)\n",
    "print r2_score(y3, y_pred_GB)\n",
    "\n",
    "y_pred_RF = RF.predict(x3)\n",
    "print r2_score(y3, y_pred_RF)\n",
    "\n",
    "y_pred_popolam = (y_pred_GB + y_pred_RF) / 2.0\n",
    "print r2_score(y3, y_pred_popolam)\n",
    "\n",
    "DF_test = pd.DataFrame(\n",
    "    {'RF': y_pred_RF,\n",
    "     'GB': y_pred_GB\n",
    "    })\n",
    "y_pred_LR = LR.predict(DF_test)\n",
    "print r2_score(y3, y_pred_LR)"
   ]
  },
  {
   "cell_type": "markdown",
   "metadata": {},
   "source": [
    "Что делать дальше (на выбор)\n",
    "* Построить двухмерный график для бустинга :)\n",
    "* Подобрать гиперпараметры более точно. Мы перебрали параметры только по грубой логарифмической шкале. На практике же перебор по более мелкой шкале может дать серьезный выигрыш в качестве. Сравнить итоговое качество на x2, y2 и x3, y3.\n",
    "* Подобрать гиперпараметры для xgboost. Сравнить итоговое качество.\n",
    "* Подобрать гиперпараметры для других моделей (например, линейной и метрической)\n",
    "* Почитать на форуме соревнования, как его решали, и посмотреть Kernels."
   ]
  },
  {
   "cell_type": "code",
   "execution_count": null,
   "metadata": {
    "collapsed": true
   },
   "outputs": [],
   "source": []
  }
 ],
 "metadata": {
  "_change_revision": 113,
  "_is_fork": false,
  "anaconda-cloud": {},
  "kernelspec": {
   "display_name": "Python [conda env:dataweekends]",
   "language": "python",
   "name": "conda-env-dataweekends-py"
  },
  "language_info": {
   "codemirror_mode": {
    "name": "ipython",
    "version": 2
   },
   "file_extension": ".py",
   "mimetype": "text/x-python",
   "name": "python",
   "nbconvert_exporter": "python",
   "pygments_lexer": "ipython2",
   "version": "2.7.13"
  }
 },
 "nbformat": 4,
 "nbformat_minor": 1
}
